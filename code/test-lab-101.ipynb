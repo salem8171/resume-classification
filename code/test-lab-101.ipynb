{
 "cells": [
  {
   "cell_type": "code",
   "execution_count": 1,
   "metadata": {},
   "outputs": [],
   "source": [
    "import numpy as np\n",
    "import pandas as pd\n",
    "from sklearn.model_selection import train_test_split\n",
    "from sklearn.feature_extraction.text import CountVectorizer, TfidfTransformer\n",
    "from sklearn.linear_model import SGDClassifier\n",
    "from sklearn.neural_network import MLPClassifier"
   ]
  },
  {
   "cell_type": "code",
   "execution_count": 2,
   "metadata": {},
   "outputs": [],
   "source": [
    "WORKING_DIR = \"/home/salem/resume-classification/database/\"\n",
    "DATASET_FILENAME = WORKING_DIR + \"resume_dataset.csv\"\n",
    "SAMPLE_FILENAME = WORKING_DIR + \"sample.txt\""
   ]
  },
  {
   "cell_type": "markdown",
   "metadata": {},
   "source": [
    "### Import Dataset"
   ]
  },
  {
   "cell_type": "code",
   "execution_count": 3,
   "metadata": {},
   "outputs": [],
   "source": [
    "df = pd.read_csv(DATASET_FILENAME)\n",
    "X = df.Resume\n",
    "y = df.Category\n",
    "X_train, X_test, y_train, y_test = train_test_split(X, y, test_size=0.25, random_state=42)"
   ]
  },
  {
   "cell_type": "code",
   "execution_count": 4,
   "metadata": {},
   "outputs": [
    {
     "data": {
      "text/html": [
       "<div>\n",
       "<style scoped>\n",
       "    .dataframe tbody tr th:only-of-type {\n",
       "        vertical-align: middle;\n",
       "    }\n",
       "\n",
       "    .dataframe tbody tr th {\n",
       "        vertical-align: top;\n",
       "    }\n",
       "\n",
       "    .dataframe thead th {\n",
       "        text-align: right;\n",
       "    }\n",
       "</style>\n",
       "<table border=\"1\" class=\"dataframe\">\n",
       "  <thead>\n",
       "    <tr style=\"text-align: right;\">\n",
       "      <th></th>\n",
       "      <th>Category</th>\n",
       "      <th>Resume</th>\n",
       "    </tr>\n",
       "  </thead>\n",
       "  <tbody>\n",
       "    <tr>\n",
       "      <th>0</th>\n",
       "      <td>Data Science</td>\n",
       "      <td>Skills * Programming Languages: Python (pandas...</td>\n",
       "    </tr>\n",
       "    <tr>\n",
       "      <th>1</th>\n",
       "      <td>Data Science</td>\n",
       "      <td>Education Details \\r\\nMay 2013 to May 2017 B.E...</td>\n",
       "    </tr>\n",
       "    <tr>\n",
       "      <th>2</th>\n",
       "      <td>Data Science</td>\n",
       "      <td>Areas of Interest Deep Learning, Control Syste...</td>\n",
       "    </tr>\n",
       "    <tr>\n",
       "      <th>3</th>\n",
       "      <td>Data Science</td>\n",
       "      <td>Skills â¢ R â¢ Python â¢ SAP HANA â¢ Table...</td>\n",
       "    </tr>\n",
       "    <tr>\n",
       "      <th>4</th>\n",
       "      <td>Data Science</td>\n",
       "      <td>Education Details \\r\\n MCA   YMCAUST,  Faridab...</td>\n",
       "    </tr>\n",
       "    <tr>\n",
       "      <th>...</th>\n",
       "      <td>...</td>\n",
       "      <td>...</td>\n",
       "    </tr>\n",
       "    <tr>\n",
       "      <th>164</th>\n",
       "      <td>Testing</td>\n",
       "      <td>Computer Skills: â¢ Proficient in MS office (...</td>\n",
       "    </tr>\n",
       "    <tr>\n",
       "      <th>165</th>\n",
       "      <td>Testing</td>\n",
       "      <td>â Willingness to accept the challenges. â ...</td>\n",
       "    </tr>\n",
       "    <tr>\n",
       "      <th>166</th>\n",
       "      <td>Testing</td>\n",
       "      <td>PERSONAL SKILLS â¢ Quick learner, â¢ Eagerne...</td>\n",
       "    </tr>\n",
       "    <tr>\n",
       "      <th>167</th>\n",
       "      <td>Testing</td>\n",
       "      <td>COMPUTER SKILLS &amp; SOFTWARE KNOWLEDGE MS-Power ...</td>\n",
       "    </tr>\n",
       "    <tr>\n",
       "      <th>168</th>\n",
       "      <td>Testing</td>\n",
       "      <td>Skill Set OS Windows XP/7/8/8.1/10 Database MY...</td>\n",
       "    </tr>\n",
       "  </tbody>\n",
       "</table>\n",
       "<p>169 rows × 2 columns</p>\n",
       "</div>"
      ],
      "text/plain": [
       "         Category                                             Resume\n",
       "0    Data Science  Skills * Programming Languages: Python (pandas...\n",
       "1    Data Science  Education Details \\r\\nMay 2013 to May 2017 B.E...\n",
       "2    Data Science  Areas of Interest Deep Learning, Control Syste...\n",
       "3    Data Science  Skills â¢ R â¢ Python â¢ SAP HANA â¢ Table...\n",
       "4    Data Science  Education Details \\r\\n MCA   YMCAUST,  Faridab...\n",
       "..            ...                                                ...\n",
       "164       Testing  Computer Skills: â¢ Proficient in MS office (...\n",
       "165       Testing  â Willingness to accept the challenges. â ...\n",
       "166       Testing  PERSONAL SKILLS â¢ Quick learner, â¢ Eagerne...\n",
       "167       Testing  COMPUTER SKILLS & SOFTWARE KNOWLEDGE MS-Power ...\n",
       "168       Testing  Skill Set OS Windows XP/7/8/8.1/10 Database MY...\n",
       "\n",
       "[169 rows x 2 columns]"
      ]
     },
     "execution_count": 4,
     "metadata": {},
     "output_type": "execute_result"
    }
   ],
   "source": [
    "df"
   ]
  },
  {
   "cell_type": "code",
   "execution_count": 5,
   "metadata": {},
   "outputs": [
    {
     "data": {
      "text/plain": [
       "{'Advocate',\n",
       " 'Arts',\n",
       " 'Automation Testing',\n",
       " 'Blockchain',\n",
       " 'Business Analyst',\n",
       " 'Civil Engineer',\n",
       " 'Data Science',\n",
       " 'Database',\n",
       " 'DevOps Engineer',\n",
       " 'DotNet Developer',\n",
       " 'ETL Developer',\n",
       " 'Electrical Engineering',\n",
       " 'HR',\n",
       " 'Hadoop',\n",
       " 'Health and fitness',\n",
       " 'Java Developer',\n",
       " 'Mechanical Engineer',\n",
       " 'Network Security Engineer',\n",
       " 'Operations Manager',\n",
       " 'PMO',\n",
       " 'Python Developer',\n",
       " 'SAP Developer',\n",
       " 'Sales',\n",
       " 'Testing',\n",
       " 'Web Designing'}"
      ]
     },
     "execution_count": 5,
     "metadata": {},
     "output_type": "execute_result"
    }
   ],
   "source": [
    "set(df.Category)"
   ]
  },
  {
   "cell_type": "markdown",
   "metadata": {},
   "source": [
    "### Pre-processing"
   ]
  },
  {
   "cell_type": "code",
   "execution_count": 6,
   "metadata": {},
   "outputs": [],
   "source": [
    "# Outputs a matrix of occurences with words as columns\n",
    "count_vect = CountVectorizer(stop_words='english')\n",
    "X_train_counts = count_vect.fit_transform(X_train)\n",
    "\n",
    "# Normalization\n",
    "tfidf_transformer = TfidfTransformer()\n",
    "X_train_tfidf = tfidf_transformer.fit_transform(X_train_counts)"
   ]
  },
  {
   "cell_type": "code",
   "execution_count": 7,
   "metadata": {},
   "outputs": [
    {
     "name": "stdout",
     "output_type": "stream",
     "text": [
      "[[0 0 0 ... 0 0 0]\n",
      " [0 0 0 ... 0 0 0]\n",
      " [0 0 0 ... 0 0 0]\n",
      " ...\n",
      " [0 0 0 ... 0 0 0]\n",
      " [0 0 0 ... 2 0 0]\n",
      " [0 0 0 ... 0 0 0]]\n"
     ]
    }
   ],
   "source": [
    "print(X_train_counts.toarray())"
   ]
  },
  {
   "cell_type": "code",
   "execution_count": 8,
   "metadata": {},
   "outputs": [
    {
     "name": "stdout",
     "output_type": "stream",
     "text": [
      "[[0.         0.         0.         ... 0.         0.         0.        ]\n",
      " [0.         0.         0.         ... 0.         0.         0.        ]\n",
      " [0.         0.         0.         ... 0.         0.         0.        ]\n",
      " ...\n",
      " [0.         0.         0.         ... 0.         0.         0.        ]\n",
      " [0.         0.         0.         ... 0.09051928 0.         0.        ]\n",
      " [0.         0.         0.         ... 0.         0.         0.        ]]\n"
     ]
    }
   ],
   "source": [
    "print(X_train_tfidf.toarray())"
   ]
  },
  {
   "cell_type": "code",
   "execution_count": 9,
   "metadata": {},
   "outputs": [
    {
     "name": "stdout",
     "output_type": "stream",
     "text": [
      "['000', '01', '017', '03', '04th', '05', '050education', '06th', '07', '07education', '08', '09876971076', '0education', '10', '100', '104', '10g', '10magicalfingers', '11', '110', '110v', '11171', '118', '1180', '11g', '11geducation', '11gr2', '11kv', '12', '120', '1200', '125', '12c', '12d', '12k', '13', '132kv', '14', '147', '15', '150', '1500', '16', '163', '16th', '17', '175', '17th', '18', '1800s', '18c', '19', '1900s', '1972', '1986', '1992', '1993', '1995', '1996', '1997', '1998', '1999', '19xx', '1st', '1stexpert', '1x', '1year', '20', '2000', '2000a', '2001', '2002', '2003', '2004', '2005', '2006', '2006education', '2007', '2008', '2008r2', '2008skill', '2009', '200s', '201', '2010', '2011', '2012', '2013', '2014', '2015', '2016', '2017', '2018', '2019', '2021', '2026', '20656', '2065864', '20th', '21', '218', '22', '2200', '22k', '22kv', '23', '230', '24', '24q', '24x7', '25', '250', '2600s', '27', '28', '28xx', '29', '2900s', '2960', '29th', '29xx', '2b', '2d', '2fa', '2nd', '30', '300', '3000', '301', '30th', '31', '32', '33', '34', '350', '3560', '36', '360', '3600s', '3700s', '3750e', '3800s', '3845', '39', '3d', '3deducation', '3rd', '3staragroproducts', '3t', '3years', '40', '400', '4000', '400014', '400051', '400076', '400093', '400097', '411041', '42', '43', '44', '45', '450', '4500', '47', '48', '4850s', '49', '4hana', '50', '500', '5000', '55', '5500', '5550', '56', '58', '5m', '5th', '60', '600', '60076', '61', '625', '63', '6500', '6th', '6thmay', '72', '7200s', '73', '74', '75', '76', '78', '79', '793', '7cees', '7education', '80', '800', '84', '85', '89', '8i', '8th', '90', '9001', '92', '95', '96', '97', '98', '9i', '9x', 'a1', 'a2', 'aaa', 'aag', 'ab', 'abad', 'abap', 'abasaheb', 'abb', 'abilities', 'ability', 'able', 'abridged', 'absa', 'absence', 'abstract', 'ac', 'academic', 'academy', 'acb', 'acbs', 'accelerating', 'accelerator', 'accelya', 'accenture', 'accentureskill', 'accept', 'acceptable', 'acceptance', 'accepted', 'access', 'access2007', 'accesses', 'accessibility', 'accessible', 'accessories', 'accident', 'accidentally', 'accolite', 'accommodating', 'accommodation', 'accompanying', 'accomplish', 'accomplishment', 'accomplishments', 'accord', 'accordance', 'according', 'accordingly', 'account', 'accountability', 'accountholders', 'accounting', 'accounts', 'accuracy', 'accurate', 'accurately', 'achieve', 'achieved', 'achievement', 'achievements', 'achieving', 'acid', 'acl', 'acls', 'acquire', 'acquired', 'acquiring', 'acquisition', 'act', 'acting', 'action', 'actioned', 'actions', 'active', 'actively', 'activites', 'activities', 'activity', 'actual', 'actuators', 'ad', 'ada', 'adalat', 'adani', 'adapt', 'adaptability', 'adaptable', 'adavance', 'add', 'added', 'adding', 'addition', 'additional', 'additionally', 'additions', 'addm', 'address', 'addressed', 'addresses', 'addressing', 'adhar', 'adhere', 'adhered', 'adherence', 'adhering', 'adhoc', 'adi', 'adichunchanagiri', 'aditya', 'admin', 'administer', 'administered', 'administering', 'administration', 'administrative', 'administrator', 'administrator2', 'administratordatabase', 'administratormicrosoft', 'administratororacle', 'administratorskill', 'admitted', 'ado', 'adobe', 'adoption', 'ador', 'advance', 'advanced', 'advantage', 'advert', 'advertisement', 'advertising', 'advice', 'advisor', 'advisors', 'advisory', 'advocate', 'advocateskill', 'advocator', 'aed', 'aero', 'aerobics', 'aes', 'affairs', 'affecting', 'aforesaid', 'africa', 'ag', 'age', 'agency', 'agent', 'agents', 'aggarwal', 'aggregate', 'aggregator', 'aggregators', 'agile', 'aging', 'agnel', 'agreement', 'agreements', 'agriculture', 'agro', 'ags', 'aht', 'ahu', 'ai', 'aibe', 'ailments', 'aim', 'aims', 'air', 'aircheck', 'airfreight', 'airlines', 'airlink', 'airoli', 'airport', 'airtel', 'airways', 'ais', 'aisect', 'aissms', 'aix', 'ajax', 'akbar', 'akzonobel', 'al', 'alamuri', 'alarm', 'alcatel', 'ale', 'alert', 'alerts', 'alfalah', 'algo', 'algorithm', 'algorithms', 'ali', 'alia', 'aligned', 'alignment', 'allahabad', 'allcargo', 'allen', 'alleviate', 'allied', 'alll1', 'allocate', 'allocating', 'allocation', 'allotted', 'allow', 'allowances', 'allowed', 'allows', 'alm', 'alternate', 'alternative', 'altivar', 'alto', 'alwayson', 'amazon', 'ambitious', 'ambulance', 'amendments', 'amenities', 'america', 'american', 'americas', 'amex', 'amf', 'aml', 'amman', 'ampd', 'amravati', 'amreli', 'amway', 'anaconda', 'anaconda3', 'analog', 'analyes', 'analyse', 'analyses', 'analysing', 'analysis', 'analyst', 'analystbusiness', 'analysts', 'analystsenior', 'analystskill', 'analytic', 'analytica', 'analytical', 'analytics', 'analytika', 'analyze', 'analyzed', 'analyzer', 'analyzing', 'anantrao', 'andheri', 'andhra', 'andrews', 'android', 'angel', 'angular', 'angular1', 'angulareducation', 'angularjs', 'anjular', 'anna', 'annet', 'annotations', 'annual', 'annually', 'anomalies', 'ansalon', 'answer', 'answered', 'answering', 'anti', 'anushaktinagar', 'ao', 'ap', 'apac', 'apache', 'apachetomcatserver', 'apart', 'apartments', 'apeksha', 'apex', 'apfc', 'api', 'apiâ', 'apo', 'app', 'appdynamics', 'appeals', 'appellate', 'applauded', 'apple', 'appliances', 'applicants', 'application', 'applications', 'applicationseducation', 'applied', 'applocker', 'apply', 'applying', 'appointment', 'appraisal', 'appraisals', 'appraising', 'appreciation', 'approach', 'approaches', 'appropriate', 'appropriately', 'approval', 'approvals', 'approve', 'approved', 'approvers', 'approximately', 'apps', 'apr', 'april', 'aptech', 'ar', 'arabia', 'arabian', 'arbitrator', 'architect', 'architects', 'architectsap', 'architectural', 'architecture', 'archive', 'arduinoâ', 'area', 'areas', 'argus', 'aria', 'arif', 'arima', 'arising', 'arm', 'army', 'aroma', 'aromathai', 'aromatherapy', 'arrange', 'arrangement', 'arrangements', 'arranging', 'arrive', 'arriving', 'art', 'article', 'articulate', 'artifact', 'artifacts', 'artificial', 'artist', 'artists', 'arts', 'artshead', 'artsskill', 'arya', 'as400', 'asa', 'asallâ', 'ase', 'ash', 'asha', 'asia', 'asks', 'asm', 'asmita', 'asp', 'aspect', 'aspects', 'aspiration', 'aspire', 'assam', 'assembly', 'assess', 'assessed', 'assessing', 'assessment', 'assessments', 'asset', 'assets', 'assign', 'assigned', 'assigning', 'assignments', 'assist', 'assistance', 'assistant', 'assisted', 'assistence', 'assisting', 'assists', 'associate', 'associated', 'associatedata', 'associates', 'association', 'associationpresident', 'associationskill', 'asst', 'assurance', 'assurant', 'assuring', 'astellas', 'atas', 'atd', 'atex', 'atharva', 'athena', 'atm', 'atms', 'atos', 'atri', 'attach', 'attacks', 'attend', 'attendance', 'attended', 'attending', 'attitude', 'attorney', 'attract', 'attracting', 'attractive', 'attribute', 'attributes', 'audience', 'audio', 'audit', 'auditing', 'audits', 'aug', 'augest', 'augmented', 'august', 'aurangabad', 'aurora', 'aurus', 'australia', 'authentic', 'authentication', 'authorised', 'authorities', 'authority', 'authorization', 'authorizations', 'authorized', 'auto', 'autocad', 'automate', 'automated', 'automatic', 'automatically', 'automating', 'automation', 'automationtestingskill', 'automotive', 'autonomous', 'autosys', 'auxiliary', 'auxledger', 'auxledgerskill', 'avail', 'availabiity', 'availability', 'available', 'availed', 'average', 'aviation', 'avishkar', 'award', 'awarded', 'awards', 'aware', 'awareness', 'awr', 'aws', 'awvpb7123n', 'axis', 'ayur', 'ayurveda', 'ayurvedic', 'azure', 'azureweb', 'azurewebservices', 'b1', 'b2b', 'b2c', 'b4600b146', 'ba', 'bachelor', 'bachelors', 'backed', 'backend', 'background', 'backgrounds', 'backround', 'backup', 'backups', 'bahadarpur', 'bahra', 'bail', 'bajaj', 'balaji', 'balance', 'balancer', 'balancers', 'bali', 'balls', 'bam', 'bancs', 'band', 'bandra', 'bangalore', 'banglorecivil', 'bank', 'bankers', 'banking', 'banks', 'bankskill', 'banners', 'banyan', 'bar', 'baramati', 'barc', 'barclaycard', 'barclays', 'bard', 'barge', 'barging', 'barsha', 'barskill', 'bas', 'base', 'based', 'baseline', 'basic', 'basically', 'basics', 'basis', 'basodadata', 'batch', 'batches', 'battery', 'bau', 'baxa', 'bayes', 'bazar', 'bbh', 'bc', 'bca', 'bci', 'bcom', 'bcp', 'bcs', 'bd', 'bdd', 'bds', 'bean', 'beans', 'beats', 'beautiful', 'beginner', 'behavior', 'belief', 'belonging', 'belongs', 'belt', 'bench', 'benchmark', 'benefits', 'bengaluru', 'berco', 'bess', 'best', 'better', 'beverage', 'bfa', 'bgp', 'bharat', 'bharati', 'bharti', 'bhavan', 'bhawan', 'bhawana', 'bhind', 'bhopal', 'bhulielectrical', 'bi', 'bias', 'bid', 'bidding', 'bidirectional', 'big', 'biggest', 'bihar', 'bikaner', 'bilingual', 'billed', 'billing', 'billion', 'bills', 'bio', 'biogen', 'biography', 'biopharmaceutical', 'biotechnology', 'biotechnologydata', 'birla', 'birst', 'birth', 'birthday', 'bis', 'bitbucket', 'bitcoin', 'biz', 'bizagi', 'bizcomp', 'biztalk', 'biztalk2006', 'black', 'blob', 'block', 'blockades', 'blockchain', 'blocking', 'blockings', 'blood', 'blower', 'blue', 'bluemix', 'bmc', 'bmch', 'bny', 'bo', 'board', 'boardadvocatellb', 'boardasst', 'boardbusiness', 'boarddevops', 'boarddot', 'boardfine', 'boarding', 'boardjava', 'boardmysql', 'boardpython', 'boardquality', 'boards', 'boardsite', 'boardsoftware', 'bobj', 'bodies', 'bods', 'bodsskill', 'body', 'boiler', 'bom', 'bombay', 'bond', 'bonds', 'book', 'booking', 'bookmyflat', 'books', 'boost', 'boosting', 'bootstrap', 'bot', 'bots', 'bottle', 'bottlenecks', 'bow', 'box', 'boxes', 'bp', 'br', 'brackets', 'brain', 'braindatawire', 'braindatawireskill', 'brainshark', 'brainstorming', 'bramha', 'branch', 'branches', 'brand', 'brands', 'braseries', 'brbcl', 'brd', 'brds', 'bready', 'break', 'breakdown', 'breakdowns', 'breaker', 'breweries', 'brick', 'brief', 'briefing', 'briefings', 'bring', 'bringing', 'brings', 'british', 'broad', 'brochures', 'broker', 'brokerage', 'brokers', 'broking', 'brooklyn', 'brothers', 'brought', 'brown', 'browser', 'bs', 'bsc', 'bscit', 'bse', 'bt', 'btech', 'bu', 'bucketing', 'buckets', 'budget', 'budgeted', 'budgeting', 'budgets', 'bug', 'bugs', 'build', 'builder', 'builders', 'building', 'buildings', 'builds', 'built', 'bulk', 'bunglows', 'burdwanadvocateskill', 'bureau', 'burkena', 'bus', 'business', 'businesses', 'bust', 'bw', 'byte', 'ca', 'cable', 'cables', 'cabling', 'cachar', 'cache', 'cad', 'cadd', 'cag', 'cakephp', 'calculate', 'calculated', 'calculating', 'calculation', 'calculations', 'calendar', 'calibration', 'calibrations', 'california', 'called', 'caller', 'calling', 'calls', 'calm', 'camp', 'campaign', 'campaigns', 'camps', 'canada', 'canara', 'cancel', 'candidate', 'candidates', 'capa', 'capabilities', 'capability', 'capable', 'capacity', 'capex', 'capgemini', 'capita', 'capital', 'caps', 'capture', 'captured', 'capturing', 'car', 'card', 'cardiology', 'cardiovascular', 'cards', 'care', 'career', 'careful', 'cargo', 'carlsberg', 'carolina', 'carried', 'carrier', 'carriers', 'carry', 'carrying', 'cars', 'cary', 'casa', 'cascading', 'case', 'cases', 'cash', 'cashiering', 'cassandra', 'casting', 'casualty', 'catalyst', 'catdm', 'categories', 'categorize', 'category', 'catering', 'caters', 'catia', 'cause', 'causes', 'cb', 'cbil', 'cbp', 'cbs', 'cbse', 'cca', 'ccna', 'ccnp', 'ccu', 'cd', 'cdc', 'cdh3', 'cdss', 'celebration', 'cem', 'cement', 'center', 'center8', 'centos', 'central', 'centralized', 'centre', 'centreon', 'centrepython', 'centres', 'centrex', 'centric', 'centrifugal', 'certain', 'certainly', 'certificate', 'certificates', 'certification', 'certifications', 'certified', 'ceus', 'cfbc', 'cfoc', 'cgpa', 'cha', 'chain', 'challenges', 'challenging', 'championship', 'chance', 'chandigarh', 'chandrapur', 'change', 'changer', 'changes', 'channel', 'channels', 'character', 'characterization', 'charge', 'chargeback', 'charger', 'charges', 'charles', 'charm', 'charni', 'charter', 'charts', 'chasing', 'chassis', 'chat', 'chatbot', 'chauhan', 'chavan', 'chawla', 'chd', 'check', 'checking', 'checklist', 'checklists', 'checkpoint', 'checks', 'checkups', 'chemicals', 'chennai', 'cheque', 'cheques', 'chevening', 'chidambaram', 'chikmagalurhrskill', 'child', 'chilled', 'chiller', 'china', 'chinchwad', 'chock', 'choice', 'chok', 'choose', 'chowki', 'ci', 'circuit', 'circulating', 'cisco', 'ciso', 'cit', 'citect', 'citectscada7', 'citi', 'citibank', 'cities', 'citizen', 'citizens', 'citrix', 'citrus', 'city', 'cityspaceindia', 'civil', 'cl', 'clacutta', 'claim', 'claims', 'clarifications', 'clarified', 'clarifying', 'clarity', 'class', 'classes', 'classical', 'classification', 'classifications', 'classifier', 'classify', 'cleaning', 'cleansing', 'clear', 'clearance', 'clearances', 'cleared', 'clearly', 'click', 'client', 'clients', 'clientâ', 'clinical', 'clinics', 'clock', 'clones', 'cloning', 'clore', 'close', 'closed', 'closely', 'closing', 'closure', 'cloud', 'cloudatix', 'cloudera', 'cloudformation', 'cluster', 'clustering', 'clusters', 'cmcs', 'cms', 'cmu', 'cmus', 'cnc', 'coach', 'coachadvance', 'coaching', 'coatings', 'code', 'coded', 'codeigniter', 'codes', 'codestrike', 'codesys', 'coding', 'coe', 'cognitive', 'cognizant', 'cognos', 'coil', 'cold', 'collabnet', 'collaborate', 'collaborated', 'collaborating', 'collaboration', 'collaborator', 'collate', 'collateral', 'colleagues', 'collect', 'collected', 'collection', 'collections', 'collects', 'college', 'collegeadvocateadvocate', 'collegecivil', 'collegedata', 'collegedatabase', 'collegeetl', 'collegegroup', 'collegejava', 'collegenetwork', 'collegesenior', 'collegetesting', 'collegeâ', 'colony', 'color', 'columbia', 'columns', 'com', 'combined', 'combines', 'come', 'comes', 'cometchat', 'comfort', 'comfortable', 'coming', 'comm', 'command', 'commands', 'commensurate', 'comments', 'commerce', 'commercial', 'commision', 'commission', 'commissioner', 'commissioning', 'commissions', 'commitment', 'committee', 'commodities', 'common', 'commonly', 'communicate', 'communicated', 'communicating', 'communication', 'communications', 'communicator', 'communities', 'community', 'comnet', 'comp', 'companies', 'company', 'comparative', 'compare', 'comparison', 'compatibility', 'compelling', 'compensation', 'competencies', 'competency', 'competent', 'competition', 'competitions', 'competitive', 'compile', 'compiled', 'complain', 'complaint', 'complaints', 'complete', 'completed', 'completing', 'completion', 'complex', 'complexity', 'compliance', 'compliancereport', 'compliances', 'complicated', 'complied', 'comply', 'component', 'components', 'comprehensive', 'compression', 'comprise', 'comprises', 'comprising', 'computer', 'computerized', 'computers', 'computing', 'conceivable', 'concept', 'conception', 'concepts', 'conceptualized', 'conceptualizing', 'concern', 'concerned', 'concerning', 'conciliator', 'concisely', 'conclusion', 'conclusions', 'concrete', 'concurrence', 'condition', 'conditions', 'conduct', 'conducted', 'conducting', 'conference', 'conferring', 'confidence', 'confident', 'configuraing', 'configuration', 'configurations', 'configure', 'configured', 'configuring', 'confirm', 'conflict', 'confluence', 'conformance', 'conformiq', 'conglomerate', 'conjunction', 'connect', 'connecting', 'connection', 'connections', 'connectivity', 'connector', 'consensuseducation', 'consent', 'considerate', 'considered', 'consignments', 'consistency', 'consistent', 'consistently', 'consisting', 'console', 'consolidated', 'consolidation', 'constraint', 'constraints', 'constructing', 'construction', 'constructive', 'consultancy', 'consultant', 'consultantconsultant', 'consultantdata', 'consultants', 'consultantsap', 'consultantskill', 'consultation', 'consulting', 'consumed', 'consumer', 'consuming', 'consumption', 'contact', 'contacting', 'contactor', 'contacts', 'contactus', 'contain', 'contains', 'content', 'contents', 'contest', 'context', 'continent', 'continents', 'continue', 'continued', 'continues', 'continuity', 'continuous', 'continuously', 'contract', 'contracting', 'contractor', 'contractors', 'contracts', 'contractual', 'contributing', 'contribution', 'contributions', 'contributors', 'control', 'controlled', 'controller', 'controllers', 'controllership', 'controlling', 'controls', 'convent', 'conventional', 'conversant', 'conversation', 'conversion', 'conversions', 'convert', 'converted', 'converter', 'converting', 'convey', 'conveying', 'conveyor', 'convincing', 'coolers', 'cooling', 'cooperation', 'cooperatively', 'coordinate', 'coordinated', 'coordinates', 'coordinating', 'coordination', 'coordinationâ', 'cope', 'copy', 'copyrights', 'corda', 'core', 'corel', 'corp', 'corporate', 'corporation', 'corporations', 'correct', 'correcting', 'correction', 'corrective', 'correctly', 'correlation', 'correspondence', 'corresponding', 'corrupted', 'cosine', 'cosmoss', 'cost', 'costings', 'costly', 'costs', 'council', 'counsel', 'counselling', 'counsels', 'count', 'counter', 'counterparts', 'countersign', 'countries', 'country', 'counts', 'courrier', 'course', 'coursera', 'courses', 'court', 'courter', 'courts', 'courtskill', 'cover', 'coverage', 'covered', 'covers', 'cpi', 'cpp', 'cpro', 'cpu', 'cr', 'craft', 'crane', 'crash', 'crashing', 'crawl', 'crawling', 'create', 'created', 'creates', 'creating', 'creation', 'creative', 'creativity', 'credence', 'credibility', 'credit', 'credits', 'cricket', 'criculum', 'crime', 'crimes', 'criminal', 'criminology', 'crimping', 'cript', 'critical', 'criticality', 'crm', 'croatia', 'cronjobs', 'crontab', 'cross', 'crs', 'crsctl', 'crt', 'cru', 'crunch', 'cryptography', 'crystal', 'cs', 'csa', 'csat', 'cse', 'csl', 'csm', 'css', 'css3', 'ct', 'ctl', 'ctr', 'cu', 'cubicle', 'cubs', 'cucumber', 'cufflinks', 'cug', 'cultural', 'culturally', 'cultures', 'cum', 'cumulative', 'currencies', 'currency', 'current', 'currently', 'curriculum', 'curtail', 'custodian', 'custodians', 'custody', 'custom', 'customer', 'customers', 'customisation', 'customization', 'customize', 'customized', 'customizes', 'customs', 'cut', 'cutover', 'cv', 'cvs', 'cx', 'cxmt', 'cybage', 'cyber', 'cycle', 'cycles', 'cycling', 'd3', 'd365', 'dadar', 'dahej', 'daigram', 'daily', 'dairy', 'dallas', 'damage', 'damages', 'dammam', 'dan', 'dance', 'danfoss', 'dapp', 'dapps', 'dar', 'dashboard', 'dashboards', 'data', 'database', 'databases', 'databasesms', 'datafeed', 'datafiles', 'dataguard', 'dataiku', 'datamart', 'datamites', 'datamitesskill', 'datapump', 'dataset', 'datasets', 'datastage', 'dataâ', 'date', 'dates', 'davv', 'day', 'dayanand', 'days', 'daysâ', 'db', 'db2', 'dba', 'dbaoracle', 'dbartisan', 'dbas', 'dbca', 'dbcc', 'dbms', 'dbms_jobs', 'dbms_scheduler', 'dbs', 'dc', 'dcs', 'dd', 'ddl', 'ddr', 'ddsm', 'deadline', 'deadlines', 'deadlock', 'deadlocks', 'deal', 'dealer', 'dealership', 'dealing', 'deals', 'dealt', 'death', 'debit', 'debt', 'debtor', 'debug', 'debugged', 'debugger', 'debugging', 'dec', 'december', 'decide', 'decision', 'decisions', 'declaration', 'declare', 'decomposition', 'decrease', 'dedicated', 'dedication', 'deduction', 'deed', 'deep', 'deeply', 'default', 'defect', 'defects', 'defence', 'defense', 'deferrals', 'deficiencies', 'define', 'defined', 'defining', 'definitive', 'deft', 'degine', 'degree', 'deign', 'delayed', 'delete', 'deleted', 'deleting', 'deletion', 'delhi', 'deliery', 'delinquencies', 'delinquent', 'deliver', 'deliverables', 'delivered', 'deliveries', 'delivering', 'delivers', 'delivery', 'dell', 'deloitte', 'delta', 'demand', 'demanding', 'demands', 'demo', 'demonstrated', 'density', 'dental', 'dep', 'department', 'departments', 'dependability', 'dependable', 'dependencies', 'dependency', 'depending', 'deploy', 'deployed', 'deploying', 'deployment', 'deployments', 'depot', 'depth', 'deputation', 'deputy', 'derby', 'derivative', 'derivatives', 'derive', 'deriving', 'describes', 'description', 'design', 'designated', 'designation', 'designed', 'designer', 'designers', 'designerweb', 'designing', 'designs', 'desired', 'desk', 'desktop', 'desktops', 'destination', 'destinations', 'detach', 'detailed', 'detailexperiences', 'detailing', 'details', 'detais', 'detect', 'detection', 'detects', 'determine', 'determined', 'determining', 'deutsche', 'dev', 'develop', 'developed', 'developement', 'developer', 'developerabap', 'developerblockchain', 'developerdot', 'developeretl', 'developerhadoop', 'developerhodoop', 'developerit', 'developerjava', 'developerphp', 'developerpython', 'developers', 'developersap', 'developerskill', 'developersystems', 'developertalend', 'developing', 'development', 'developments', 'develops', 'deviated', 'device', 'devices', 'devising', 'devops', 'devopsskill', 'devsecops', 'dexterity', 'dfmea', 'dg', 'dh600', 'dhamaka', 'dhanraj', 'dhcp', 'dhl', 'dhtml', 'diabetes', 'diagnose', 'diagnosis', 'diagnostic', 'diagnostics', 'diagram', 'diagrams', 'dibrugarh', 'dictionary', 'didn', 'diesel', 'diet', 'dietetics', 'different', 'differential', 'differentiate', 'difficult', 'digital', 'diifernt', 'dim', 'dimension', 'dimensional', 'dimensionality', 'dimensions', 'diploma', 'diplomatically', 'direct', 'direction', 'directly', 'director', 'directories', 'directors', 'directory', 'disability', 'disabled', 'disassembly', 'disaster', 'disbursement', 'disciplinary', 'discipline', 'disciplines', 'discontinued', 'discount', 'discounts', 'discovery', 'discrepancies', 'discrepancy', 'discuss', 'discussing', 'discussion', 'discussions', 'disease', 'disha', 'disk', 'diskgroups', 'disks', 'dispatch', 'dispatching', 'display', 'displayed', 'disposal', 'dispute', 'disputes', 'dist', 'distance', 'distribute', 'distributed', 'distribution', 'distributions', 'distributor', 'distributors', 'district', 'diverse', 'divider', 'division', 'divisions', 'divorce', 'divorces', 'diwali', 'django', 'dlt', 'dm', 'dml', 'dmv', 'dns', 'dob', 'doc', 'doc2vec', 'docker', 'doctor', 'document', 'documentation', 'documented', 'documenting', 'documents', 'does', 'doing', 'dol', 'doll', 'dollar', 'dollars', 'domain', 'domains', 'don', 'donald', 'doors', 'dossier', 'dossiers', 'dot', 'downloaded', 'downstream', 'downtime', 'dp', 'dpa', 'dpf', 'dpmcu', 'dpwn', 'dr', 'draft', 'drafting', 'drain', 'drastically', 'draw', 'drawing', 'drawings', 'dreamweaver', 'dress', 'drill', 'drilling', 'drills', 'drive', 'drivekey', 'driven', 'driver', 'drivers', 'drives', 'driving', 'drowsiness', 'drowsy', 'drt', 'druck', 'drug', 'drums', 'dry', 'dsm', 'dsp', 'dts', 'dubai', 'duct', 'ducting', 'dues', 'dummies', 'dump', 'duplicate', 'duration', 'duties', 'duty', 'dy', 'dynamic', 'dynamo', 'e2e', 'eagerness', 'eap', 'earliest', 'early', 'earthing', 'ease', 'easier', 'easily', 'east', 'easy', 'eating', 'eboss', 'ebs', 'ebs_support', 'ec', 'ec2', 'ecc', 'ecc6', 'eclerx', 'eclipse', 'eco', 'ecoflex', 'ecommerce', 'economical', 'economics', 'ecosystem', 'ecosystems', 'ecuador', 'edc', 'edge', 'edh', 'edi', 'edinburg', 'editing', 'editor', 'editorial', 'eduavenir', 'education', 'educationproject', 'educationsap', 'ee11', 'effect', 'effecting', 'effective', 'effectively', 'effectiveness', 'efficiency', 'efficient', 'efficiently', 'effluent', 'effort', 'effortless', 'efforts', 'egc', 'egypt', 'ehterchannel', 'eigrp', 'eip', 'ejb', 'ejbs', 'elastic', 'elasticsearch', 'elb', 'electric', 'electrical', 'electricals', 'electromech', 'electronic', 'electronics', 'elementary', 'elements', 'eletrical', 'elevate', 'eliciting', 'eligibility', 'eligible', 'eliminate', 'eliminated', 'email', 'emails', 'embassy', 'embedded', 'embedding', 'emc', 'emea', 'emerging', 'emperor', 'emphasis', 'employability', 'employee', 'employees', 'employment', 'employs', 'empower', 'ems', 'enable', 'enabled', 'enabling', 'encapsulation', 'encharge', 'enchargeskill', 'encoding', 'encourage', 'encrypted', 'encryption', 'end', 'endeavor', 'endocrinology', 'endpoint', 'endpoints', 'energy', 'enfield', 'engagement', 'engagements', 'engg', 'engine', 'engineer', 'engineerautomation', 'engineerblockchain', 'engineercivil', 'engineered', 'engineerelectrical', 'engineering', 'engineeringdata', 'engineeringskill', 'engineerjr', 'engineerqa', 'engineerquality', 'engineers', 'engineerskill', 'engineersoftware', 'engineersr', 'engineertesting', 'enginnernetwork', 'english', 'enhance', 'enhanced', 'enhancement', 'enhancements', 'enhancing', 'enigma', 'enjoy', 'enquiries', 'enquiry', 'enrolling', 'enrollment', 'ensono', 'ensure', 'ensured', 'ensures', 'ensuring', 'entailed', 'enter', 'entered', 'entermediate', 'enterprise', 'enthusiasm', 'enthusiastic', 'enthusiasts', 'entire', 'entities', 'entity', 'entrepreneurs', 'entries', 'entrust', 'entry', 'environment', 'environmental', 'environments', 'environmentâ', 'envision', 'eot', 'epecs', 'epi', 'eplan', 'eprocess', 'equal', 'equality', 'equipment', 'equipments', 'equities', 'equity', 'era', 'erc', 'erda', 'erection', 'ernst', 'erp', 'erp9', 'error', 'errors', 'esaya', 'escalate', 'escalated', 'escalation', 'escalations', 'escalationseducation', 'esd', 'esic', 'esign', 'especially', 'essayed', 'essential', 'establish', 'established', 'establishing', 'establishments', 'estado', 'estate', 'estimate', 'estimated', 'estimates', 'estimating', 'estimation', 'estimations', 'esun', 'esxi', 'et', 'eta', 'etap', 'eternis', 'ethereum', 'ethernet', 'ethical', 'ethics', 'etl', 'etp', 'etrack', 'eu', 'eur', 'europe', 'european', 'evaluate', 'evaluating', 'evaluation', 'event', 'events', 'evidence', 'ewm', 'ex', 'exact', 'examination', 'exams', 'excavation', 'exceed', 'exceeded', 'exceeding', 'excel', 'exceleducation', 'excellence', 'excellent', 'exception', 'exceptional', 'excess', 'exchange', 'exchangers', 'exclusive', 'exec', 'execute', 'executed', 'executing', 'execution', 'executions', 'executive', 'executives', 'exercise', 'exercises', 'exhibition', 'exhibitions', 'exim', 'existing', 'exit', 'exiting', 'exp', 'expand', 'expdp', 'expectations', 'expected', 'expeditious', 'expenditure', 'expense', 'expenses', 'experiance', 'experience', 'experienced', 'experiences', 'experince', 'expert', 'expertise', 'experts', 'expired', 'expiry', 'explaining', 'exploratory', 'explore', 'explorer', 'exploring', 'exponentially', 'export', 'exported', 'exporters', 'exports', 'exposure', 'exposureskill', 'exposys', 'express', 'expression', 'expressions', 'exprience', 'ext', 'extc', 'extending', 'extensibility', 'extensions', 'extensive', 'extensively', 'extents', 'exterior', 'external', 'extra', 'extract', 'extracted', 'extracting', 'extraction', 'extractor', 'extracts', 'extrovert', 'ey', 'eye', 'f2', 'f5', 'fab', 'fabric', 'fabrication', 'face', 'faced', 'faces', 'facets', 'facilitate', 'facilitates', 'facilitating', 'facilitation', 'facilities', 'facility', 'facing', 'fact', 'factor', 'factories', 'factoring', 'factors', 'factory', 'factotytalk', 'facts', 'factual', 'faculty', 'fadv', 'fahad', 'fahed', 'failback', 'failed', 'failover', 'failovers', 'failure', 'failures', 'fair', 'faithfully', 'false', 'familiar', 'family', 'familylink', 'fan', 'fanuc', 'fap', 'far', 'faridabad', 'farming', 'farms', 'faso', 'fast', 'faster', 'fastest', 'fat', 'father', 'fathers', 'fatherâ', 'fault', 'fcbc', 'feasibility', 'feasible', 'feature', 'features', 'feb', 'february', 'federal', 'fee', 'feedback', 'feedbacks', 'feeder', 'feeds', 'fees', 'fellowships', 'festival', 'fetch', 'fetching', 'fg', 'fi', 'field', 'fields', 'figure', 'file', 'filenet', 'files', 'filing', 'filling', 'film', 'filter', 'filtering', 'final', 'finalising', 'finalize', 'finalizing', 'finally', 'finance', 'financial', 'financials', 'financing', 'finder', 'finding', 'findings', 'fine', 'finish', 'fino', 'finserv', 'fintech', 'fiori', 'firefox10', 'firewall', 'firewalls', 'firm', 'firms', 'firre', 'fiserv', 'fit', 'fitness', 'fitting', 'fittings', 'fix', 'fixed', 'fixes', 'fixing', 'fl', 'flag', 'flagging', 'flags', 'flash', 'flashback', 'flask', 'flat', 'flatfiles', 'flats', 'flexibility', 'flexible', 'flip', 'float', 'floating', 'floor', 'flora', 'florida', 'flotilla', 'flow', 'flowers', 'flows', 'fluent', 'flume', 'fm', 'fmcg', 'focus', 'focused', 'focuses', 'foi', 'folder', 'folders', 'follet', 'follow', 'followed', 'following', 'follows', 'followups', 'food', 'foods', 'foot', 'football', 'force', 'forecast', 'forecasting', 'forecastingis', 'foreign', 'foremen', 'forest', 'forge', 'form', 'formal', 'formalities', 'format', 'formats', 'formatter', 'forms', 'formulae', 'formulation', 'fort', 'fortinet', 'forum', 'forums', 'forward', 'forwarders', 'forwarding', 'foundation', 'foundry', 'fpga', 'fr', 'frame', 'frames', 'framework', 'frameworks', 'framwe', 'francistalend', 'fraud', 'fraudulent', 'frd', 'frds', 'free', 'freelance', 'freelancers', 'freight', 'french', 'frequency', 'frequently', 'fresher', 'fricew', 'friendly', 'fromjspm', 'frontend', 'fruitbuddy', 'fruits', 'fruitsbuddy', 'fs', 'fsd', 'fsds', 'fss', 'ftc', 'ftp', 'fuel', 'fujitsu', 'fulfil', 'fulfill', 'fully', 'fun', 'function', 'functional', 'functionalities', 'functionality', 'functioning', 'functions', 'fund', 'fundamental', 'fundamentals', 'funding', 'funds', 'funneling', 'furnace', 'future', 'fx', 'fze', 'gac', 'gaia', 'gain', 'gained', 'gajanan', 'gallery', 'games', 'gandhi', 'ganesh', 'ganga', 'ganj', 'gap', 'gaps', 'gardening', 'garments', 'garware', 'gas', 'gate', 'gates', 'gateway', 'gather', 'gathered', 'gathering', 'gauge', 'gauhati', 'gcc', 'gcp', 'gdo', 'ge', 'gea', 'gecis', 'geepas', 'gegenerat', 'gender', 'genentech', 'general', 'generally', 'generate', 'generated', 'generates', 'generating', 'generation', 'generations', 'generator', 'geneva', 'genre', 'genworth', 'geo', 'geographic', 'geographies', 'german', 'germany', 'gets', 'getting', 'gfs', 'ggplot', 'ghat', 'ghatkesar', 'ghatkopar', 'ghs', 'girls', 'gisss', 'git', 'github', 'given', 'gives', 'giving', 'glanding', 'glasgow', 'glassfish', 'glaxo', 'glaxosmithkline', 'global', 'globalization', 'globally', 'globe', 'glyphisoft', 'gm', 'gmail', 'gmf', 'gmr', 'gns3', 'goal', 'goals', 'gobind', 'goes', 'goethe', 'going', 'golang', 'golchha', 'gold', 'golden', 'golds', 'golive', 'golwin', 'gondia', 'good', 'goods', 'google', 'goqii', 'gorbanjara', 'goregaon', 'goregoan', 'got', 'govern', 'governance', 'government', 'govt', 'gradation', 'grade', 'graduate', 'graduation', 'grant', 'granting', 'grants', 'grapheducation', 'graphical', 'graphics', 'graphs', 'grasp', 'grasping', 'gratuity', 'grc', 'great', 'green', 'greenfield', 'greenplum', 'greyed', 'grid', 'grievances', 'groomed', 'ground', 'group', 'groups', 'groupskill', 'grow', 'growth', 'gsk', 'gsm', 'gssapi', 'gst', 'gstr', 'gts', 'guaranteed', 'guard', 'gui', 'guidance', 'guide', 'guidelines', 'guiding', 'guinness', 'gujarat', 'gulbarga', 'gulf', 'guru', 'guwahati', 'gwalior', 'gyandatt', 'gym', 'gynaecologists', 'ha', 'haayan', 'hackthon', 'hadassah', 'hadoop', 'haldiram', 'hamsa', 'hana', 'hand', 'handing', 'handle', 'handled', 'handling', 'handoff', 'hands', 'handwriting', 'handwritten', 'hard', 'hardware', 'hardworking', 'harnesses', 'harriman', 'hart', 'harvard', 'haryana', 'haryanadata', 'hassel', 'havevbeen', 'having', 'hayaan', 'hazardous', 'hbase', 'hcl', 'hdfs', 'hdp2', 'head', 'headcount', 'headquartered', 'headquarters', 'health', 'healthcare', 'healthier', 'healthy', 'healthyskill', 'hear', 'heart', 'heat', 'heater', 'heating', 'heights', 'held', 'help', 'helpdesk', 'helped', 'helping', 'helps', 'heretic', 'hertz', 'heterogeneous', 'hewlett', 'hexad', 'hexaware', 'hgs', 'hi', 'hibernate', 'hibernet', 'high', 'higher', 'highest', 'highlight', 'highlighting', 'highlights', 'highpersonal', 'highschool', 'highway', 'hike', 'hilton', 'himalaya', 'hindi', 'hindu', 'hindustan', 'hingna', 'hiral', 'hiralal', 'hire', 'hired', 'hires', 'hiring', 'historic', 'history', 'hit', 'hitech', 'hiu', 'hive', 'hld', 'hmi', 'hms', 'ho', 'hoardings', 'hobbies', 'hoc', 'hold', 'holder', 'holders', 'holding', 'holds', 'holiday', 'holmes', 'holt', 'holy', 'home', 'homesciencehealth', 'honda', 'honest', 'honesty', 'honeywell', 'honoree', 'hoping', 'hopping', 'hordes', 'horizon', 'horton', 'hospital', 'hospitality', 'hospitals', 'hosted', 'hosting', 'hot', 'hotel', 'hotels', 'hour', 'hours', 'house', 'housekeeping', 'houses', 'housing', 'hp', 'hpalm', 'hpc', 'hpqc', 'hr', 'hrms', 'hsbc', 'hsc', 'hsrp', 'ht', 'html', 'html5', 'http', 'hub', 'hudson', 'hue', 'human', 'humana', 'hurdles', 'hv', 'hvac', 'hybrid', 'hyderabad', 'hydraulic', 'hydrocarbon', 'hydrocarbons', 'hyperledger', 'hypertension', 'iabac', 'iam', 'ibatis', 'ibm', 'ice', 'icfai', 'icg', 'icici', 'id', 'ide', 'idea', 'ideally', 'ideas', 'identifiable', 'identification', 'identified', 'identifies', 'identify', 'identifying', 'identity', 'idera', 'ides', 'idf', 'idoc', 'ids', 'iec', 'iecex', 'ieee', 'ielts', 'ifix', 'igg', 'ignou', 'ignouoperations', 'ii', 'iidatabase', 'iii', 'iinsurance', 'iis', 'iit', 'ijar', 'ijsrd', 'ile', 'illinois', 'illustrator', 'image', 'images', 'imaginative', 'imaging', 'imcost', 'imitation', 'immunology', 'impact', 'impacted', 'impacting', 'impala', 'impart', 'impdp', 'implement', 'implementation', 'implementations', 'implemented', 'implementing', 'implements', 'implicit', 'import', 'importance', 'important', 'importantly', 'imported', 'importer', 'importers', 'importing', 'imports', 'improve', 'improvement', 'improvements', 'improving', 'improvise', 'ims', 'inbound', 'inbuilt', 'incentive', 'inception', 'incharge', 'incident', 'incidents', 'include', 'included', 'includes', 'including', 'inclusion', 'income', 'incorporate', 'incorporated', 'increase', 'increased', 'increases', 'increasing', 'incremental', 'indemnity', 'indent', 'independently', 'index', 'indexes', 'indexing', 'india', 'indiaeducation', 'indiagroup', 'indiainx', 'indian', 'indicators', 'indigo', 'indira', 'individual', 'individually', 'individuals', 'indo', 'indoor', 'indore', 'induction', 'industrial', 'industries', 'industry', 'inert', 'infa', 'infactor', 'infer', 'infiniteworx', 'influence', 'info', 'infocomm', 'infonet', 'infopacc', 'informatica', 'informatics', 'information', 'informed', 'informing', 'infosys', 'infotech', 'infotek', 'infrastructure', 'ingest', 'initial', 'initiate', 'initiation', 'initiative', 'initiatives', 'injecting', 'injector', 'injury', 'inlight', 'inn', 'innodb', 'innotech', 'innovation', 'innovations', 'innovative', 'innovativetechnologies', 'innovesta', 'inouvelle', 'input', 'inputs', 'inquiries', 'inquiry', 'inr', 'inscripts', 'insert', 'inserts', 'inside', 'insight', 'insights', 'insolutions', 'inspection', 'inspections', 'install', 'installation', 'installations', 'installed', 'installing', 'instances', 'institute', 'institutional', 'institutionblockchain', 'institutiondatabase', 'institutions', 'instiute', 'instruction', 'instructions', 'instructor', 'instrument', 'instrumentation', 'instruments', 'insulation', 'insurance', 'integrate', 'integrated', 'integrating', 'integration', 'integrator', 'integrity', 'intelligen_for', 'intelligence', 'intellij', 'intellimatch', 'intended', 'intent', 'inter', 'interact', 'interacted', 'interacting', 'interaction', 'interactive', 'interests', 'interface', 'interfaces', 'interfacing', 'interim', 'interior', 'interlocking', 'intermediate', 'intern', 'internal', 'internally', 'international', 'internet', 'internettechnologiesand', 'interns', 'internship', 'internshipskill', 'interpersonal', 'interpret', 'interrogate', 'intertek', 'interval', 'intervals', 'intervening', 'intervention', 'interview', 'interviewees', 'interviewing', 'interviews', 'intervlan', 'intimation', 'intio', 'intouch', 'intra', 'introduced', 'introducing', 'introduction', 'introductory', 'inventories', 'inventory', 'inverter', 'invest', 'investigations', 'investigative', 'investment', 'investments', 'investors', 'invocing', 'invoice', 'invoiced', 'invoices', 'invoicesalong', 'invoicing', 'invoicings', 'involved', 'involvement', 'involves', 'involving', 'inward', 'io', 'ionic', 'ios', 'iot', 'iotâ', 'ip', 'ipa', 'ipad', 'iphone', 'ips', 'ipsec', 'ipv4', 'ipv6', 'iqvia', 'ir', 'irda', 'ireport', 'iris', 'iseries', 'iso', 'isps', 'issuance', 'issue', 'issued', 'issues', 'issuesâ', 'itechpower', 'items', 'itil', 'itr', 'itskills', 'iv', 'j1409038', 'j2ee', 'jabalpur', 'jacobs', 'jagiroad', 'jaipur', 'jalgaon', 'jallosh', 'jalloshband', 'jammu', 'jan', 'janta', 'january', 'japan', 'jaunpur', 'jaunpurnetwork', 'java', 'javaee', 'javascript', 'jawaleker', 'jayashree', 'jboss', 'jcca', 'jdbc', 'jebel', 'jenkins', 'jersey', 'jet', 'jetalal', 'jewellery', 'jformdesigner', 'jharkhand', 'jharnet', 'jhulelal', 'jijayi', 'jio', 'jira', 'jiwaji', 'jm', 'jntudot', 'job', 'joblets', 'jobs', 'john', 'johnson', 'join', 'joined', 'joiner', 'joiners', 'joining', 'joins', 'joint', 'jointly', 'journal', 'journalistskill', 'journey', 'jquery', 'jr', 'js', 'jscoe', 'jsf', 'json', 'jsp', 'jsw', 'judge', 'judicial', 'juhu', 'juicer', 'july', 'july2013to', 'jun', 'june', 'june2014', 'jungle', 'junior', 'juniorsâ', 'juniper', 'jupyter', 'justbe', 'ka', 'kafka', 'kakatiya', 'kakinada', 'kale', 'kalyan', 'kamaraj', 'kannada', 'kanya', 'karate', 'karma', 'karnataka', 'karvy', 'keeping', 'keeps', 'keil', 'kendo', 'kendoui', 'kepware', 'kerala', 'keras', 'key', 'keys', 'kgp', 'khalsa', 'khana', 'kherwadi', 'kibana', 'kind', 'kinfolk', 'king', 'kingdom', 'kirloskar', 'kisan', 'kisanveer', 'kline', 'kms', 'knn', 'knockout', 'know', 'knowledge', 'known', 'knows', 'knoxed', 'kochi', 'kohlapur', 'kolhapur', 'konkani', 'koramangala', 'kpi', 'kpis', 'kpit', 'kr', 'kra', 'ksa', 'kt', 'kudos', 'kuehne', 'kuka', 'kunal', 'kurla', 'kv', 'kva', 'kw', 'kyc', 'l1', 'lab', 'label', 'labor', 'labour', 'labs', 'ladder', 'lake', 'lakes', 'lambda', 'lan', 'land', 'landing', 'landmark', 'landmarkgroup', 'landscape', 'langages', 'language', 'languages', 'lanka', 'lans', 'laptop', 'laptops', 'laravel', 'large', 'largest', 'larsen', 'late', 'later', 'laterally', 'latest', 'latex', 'lath', 'launch', 'laundering', 'lavisa', 'law', 'laweducation', 'laws', 'lawyer', 'lawyers', 'layer', 'layered', 'layers', 'layout', 'layouts', 'lda', 'ldap', 'le', 'lead', 'leader', 'leaderfitness', 'leaders', 'leadership', 'leading', 'leads', 'leaflets', 'leakage', 'lean', 'leaning', 'learn', 'learned', 'learner', 'learnerskill', 'learning', 'lease', 'leasing', 'leave', 'leaves', 'lecturer', 'lecturerskill', 'led', 'ledger', 'leg', 'legacy', 'legal', 'legs', 'lelo', 'lending', 'lenm', 'lenovo', 'lessons', 'lets', 'letters', 'level', 'level3personal', 'levels', 'levelâ', 'lf', 'liability', 'liaise', 'liaising', 'liaison', 'liaisoning', 'liasing', 'lib', 'libraries', 'library', 'libs', 'license', 'licensed', 'licenses', 'life', 'lifecycle', 'lifekonnect', 'lifestyle', 'lighting', 'lightning', 'like', 'limit', 'limitations', 'limited', 'limitedsap', 'limitedskill', 'limits', 'line', 'lineage', 'linear', 'lines', 'linguistic', 'link', 'linked', 'linkedin', 'links', 'linq', 'linux', 'liquefied', 'lisa', 'list', 'listed', 'listener', 'listening', 'lists', 'lite', 'litecoin', 'litespeed', 'litigation', 'live', 'll', 'llb', 'llc', 'lld', 'llm', 'llp', 'llpskill', 'lm', 'lng', 'lo', 'load', 'loaded', 'loader', 'loading', 'loadouts', 'loads', 'loan', 'loans', 'lob', 'local', 'located', 'location', 'locations', 'lockdown', 'locking', 'lockout', 'lodge', 'lodged', 'lodha', 'loftware', 'log', 'logger', 'logging', 'logic', 'logical', 'login', 'logins', 'logistic', 'logistics', 'logix5000', 'logon', 'logos', 'logs', 'logstash', 'lok', 'london', 'long', 'longer', 'look', 'looked', 'looking', 'looks', 'lookup', 'loop', 'loopholes', 'los', 'loss', 'losses', 'lot', 'lots', 'lotus', 'low', 'loyalty', 'ls', 'lsa', 'lstm', 'lt', 'ltdskill', 'ltm', 'lucent', 'luckystationery', 'lumira', 'lux', 'luxury', 'lv', 'm3', 'ma', 'mac', 'machine', 'machinery', 'machines', 'macro', 'macromedia', 'macros', 'madhya', 'madhyamik', 'magazine', 'magnetic', 'maha', 'mahabaleshwartours', 'mahal', 'maharaj', 'maharaja', 'maharashatra', 'maharashtra', 'maharastra', 'maharshtra', 'mahatma', 'mahavidyalay', 'mahavidyalyajr', 'mahavir', 'mahindra', 'mahindraskill', 'mail', 'mailboxes', 'mailing', 'mails', 'main', 'mainly', 'maint', 'maintain', 'maintainable', 'maintained', 'maintaining', 'maintainingâ', 'maintains', 'maintenance', 'maintenances', 'major', 'majors', 'make', 'makes', 'making', 'maladautomation', 'malaviya', 'malaysia', 'malicious', 'man', 'manage', 'manageable', 'managed', 'management', 'managementhadoop', 'managementhrskill', 'managementskill', 'managementâ', 'managenow', 'manager', 'managereducation', 'manageroperations', 'managerproject', 'managers', 'managersales', 'managerservice', 'managerskill', 'manages', 'managescustomer', 'managing', 'mandir', 'manger', 'mangers', 'manipal', 'manipulating', 'manish', 'manner', 'manoharbhai', 'manpower', 'mansa', 'manual', 'manually', 'manuals', 'manufacture', 'manufacturers', 'manufacturing', 'map', 'mapco', 'maples', 'mapping', 'mappings', 'mapplet', 'mapreduce', 'mar', 'marathi', 'march', 'marg', 'margaret', 'mariadb', 'marine', 'marital', 'market', 'marketing', 'marketplace', 'markets', 'marks', 'markup', 'marol', 'marriage', 'married', 'marriot', 'marshall', 'mart', 'martial', 'martin', 'maruti', 'masonry', 'mass', 'massage', 'mastek', 'master', 'masters', 'matched', 'matelabs', 'matelabsskill', 'material', 'materials', 'maternal', 'maths', 'matlab', 'matplot', 'matplotlib', 'matplotliv', 'matric', 'matriculation', 'matrix', 'matter', 'matters', 'maven', 'maxgen', 'maximization', 'maximizing', 'maximum', 'maza', 'mba', 'mc', 'mca', 'mcc', 'mccia', 'mcm', 'mcs', 'md', 'mean', 'meaningful', 'means', 'measure', 'measured', 'measurement', 'measurements', 'measures', 'measuring', 'mec', 'mechanical', 'mechanism', 'medals', 'medi', 'media', 'mediation', 'mediator', 'medical', 'medicals', 'medicinal', 'medicine', 'medicines', 'medium', 'mediums', 'meet', 'meeting', 'meetings', 'megger', 'mellon', 'member', 'members', 'membership', 'memoization', 'memory', 'memos', 'menon', 'menswear', 'mentioned', 'mentor', 'mentoring', 'meraki', 'merchant', 'merchants', 'merger', 'meri', 'mesa', 'message', 'messenger', 'met', 'meta', 'metabolic', 'metadata', 'metal', 'meter', 'metering', 'method', 'methodologies', 'methodology', 'methods', 'metlife', 'metric', 'metrics', 'metros', 'mf', 'mfa', 'mfdb', 'mgm', 'mh', 'mi', 'miami', 'micheal', 'micro', 'microbiology', 'microprocessor', 'microservices', 'microsoft', 'microsystem', 'microsystems', 'microwin', 'mid', 'midc', 'middle', 'middleware', 'midi', 'migrating', 'migration', 'migrations', 'milestone', 'milknet', 'milling', 'million', 'millions', 'mini', 'minimal', 'minimize', 'minimizing', 'minimum', 'mining', 'ministry', 'minor', 'mintmetrix', 'minutes', 'mirror', 'mirroring', 'mis', 'missing', 'missions', 'mistakes', 'mit', 'mitigate', 'mitigation', 'mitpresident', 'mixed', 'mixing', 'ml', 'mlrit', 'mm', 'mmpc', 'mmrda', 'mnb', 'mnyl', 'mobile', 'mobileapp_dev_kauapc', 'mobilization', 'mocks', 'mode', 'model', 'modelers', 'modeling', 'modelling', 'models', 'modelsim', 'modem', 'modern', 'modes', 'modification', 'modifications', 'modified', 'modifying', 'modulating', 'module', 'modules', 'mog', 'mohali', 'moisture', 'moitoring', 'moledina', 'mom', 'money', 'mongodb', 'monitor', 'monitored', 'monitoring', 'monitors', 'mono', 'monster', 'month', 'monthly', 'months', 'monthscompany', 'morgan', 'morigaon', 'mortar', 'mortgage', 'moss', 'moti', 'motilal', 'motion', 'motivate', 'motivated', 'motivation', 'motor', 'motors', 'mould', 'mounting', 'moved', 'movement', 'movements', 'movex', 'movie', 'moving', 'mozilla', 'mp', 'mphasis', 'mpls', 'mr', 'mrs', 'ms', 'msc', 'mscit', 'mssql', 'mtpian', 'muktanand', 'multi', 'multiclient', 'multicultural', 'multifunctional', 'multimedia', 'multinational', 'multiple', 'multisim', 'multispecialty', 'multitasking', 'mumbai', 'mumbaibusiness', 'mumbaidrawing', 'music', 'mutual', 'mutually', 'muweilah', 'mva', 'mvc', 'mvc5', 'mvp', 'mw', 'mwb', 'mws', 'myanmar', 'myisam', 'mysore', 'mysql', 'mysql5', 'na', 'nabinagar', 'nadu', 'nafjan', 'nagaland', 'nagaon', 'nagar', 'nagel', 'nagpur', 'naharkar', 'nallasopara', 'names', 'naming', 'nanak', 'nanded', 'nangal', 'narhe', 'nashik', 'nashikjava', 'nasscom', 'nat', 'national', 'nations', 'native', 'natural', 'nature', 'naukri', 'nava', 'navi', 'navigated', 'navnirman', 'navshar', 'naã', 'nbf', 'ncr', 'nd', 'near', 'nearby', 'nec', 'necessary', 'need', 'needed', 'needs', 'negative', 'negotiate', 'negotiated', 'negotiates', 'negotiating', 'negotiation', 'negotiations', 'neighborhood', 'ner', 'net', 'netbeans', 'netca', 'netezza', 'netflow', 'netherland', 'netmgr', 'nets', 'nettech', 'netweaver', 'network', 'networking', 'networks', 'neural', 'neurology', 'neutral', 'new', 'newcastle', 'newly', 'news', 'nextgen', 'nfpa', 'nfs', 'ni', 'nibs', 'niche', 'niitproject', 'niketan', 'nippon', 'nirmiti', 'nitka', 'nits', 'nl', 'nld', 'nlp', 'nltk', 'nlu', 'nmf', 'nn', 'noc', 'node', 'nodejs', 'nodes', 'nominated', 'non', 'normal', 'normalization', 'normalizer', 'norms', 'north', 'northbound', 'norway', 'nosql', 'notebooks', 'notebool', 'noted', 'notepad', 'notes', 'notice', 'notices', 'notification', 'notifications', 'nov', 'nova', 'november', 'nternet', 'ntp', 'ntpc', 'nuances', 'number', 'numbers', 'numerical', 'numerous', 'numpy', 'nunit', 'nursing', 'nutrient', 'nutrients', 'nutrition', 'nutritional', 'ny', 'nyskill', 'oat', 'obesity', 'object', 'objective', 'objectives', 'objects', 'observation', 'observations', 'obsolete', 'obstacles', 'obtain', 'obtained', 'obtaining', 'occurring', 'ocean', 'oceans', 'oceanweb', 'oct', 'october', 'odata', 'oem', 'offer', 'offering', 'offers', 'office', 'officeeducation', 'offices', 'official', 'officials', 'offline', 'offloading', 'offs', 'offshore', 'offshoring', 'offsite', 'ofj', 'ohio', 'oil', 'old', 'older', 'oldest', 'oltc', 'oltp', 'om', 'oman', 'omnichannel', 'omron', 'oms', 'onboard', 'onboarding', 'oncology', 'ones', 'onesignalwebpushnotifications', 'ongoing', 'online', 'onshore', 'onsite', 'ontrack', 'onâ', 'ooad', 'oop', 'oops', 'oozie', 'op', 'opc', 'open', 'opencart', 'opencv', 'opening', 'opensourcetechnologies', 'operated', 'operates', 'operating', 'operatingsystem', 'operation', 'operational', 'operations', 'operative', 'opex', 'opp', 'opportunities', 'opportunity', 'ops', 'opted', 'optimazation', 'optimised', 'optimising', 'optimization', 'optimize', 'optimizing', 'optimum', 'option', 'options', 'ora', 'oracle', 'oracle11g', 'oracle11gr2', 'oral', 'orc', 'order', 'ordering', 'orders', 'ordinate', 'ordinated', 'ordinating', 'ordination', 'ordinator', 'ore', 'org', 'organisation', 'organisational', 'organised', 'organising', 'organization', 'organizational', 'organizations', 'organize', 'organized', 'organizing', 'orgnization', 'orgnizationskill', 'orichids', 'orientation', 'oriented', 'oro', 'orowealth', 'orphan', 'orphaned', 'orthopedically', 'os', 'oscar', 'osi', 'osmania', 'osmoflo', 'ospf', 'oss', 'oswal', 'otc', 'oti', 'outbound', 'outcomes', 'outdated', 'outdoor', 'outlier', 'outliers', 'outlook', 'output', 'outputs', 'outreach', 'outs', 'outside', 'outstanding', 'outward', 'overall', 'overcome', 'overdrafts', 'overhauling', 'overland', 'overlooking', 'overseas', 'oversee', 'overseeing', 'oversight', 'overview', 'owned', 'owner', 'owners', 'ownership', 'oxford', 'oxygen', 'p2p', 'p8', 'pac', 'pace', 'paced', 'pacemaker', 'pack', 'package', 'packages', 'packaging', 'packard', 'packet', 'packing', 'packs', 'paddle', 'padke', 'page', 'paintha', 'painting', 'paints', 'pair', 'pak', 'pal', 'pali', 'palo', 'pamphlet', 'pan', 'panchakarma', 'pandas', 'panel', 'panels', 'panjab', 'panorama', 'panvel', 'paper', 'paperless', 'paperworks', 'par', 'parallel', 'parameter', 'parameters', 'parent', 'parents', 'paripora', 'parivartan', 'park', 'parkar', 'parking', 'parola', 'parquet', 'parse', 'parsers', 'parson', 'participants', 'participate', 'participated', 'participating', 'participation', 'particular', 'particularly', 'parties', 'partition', 'partner', 'partners', 'partnership', 'partnerships', 'parts', 'party', 'pas', 'pass', 'passed', 'passengers', 'passing', 'passionate', 'passive', 'passport', 'password', 'past', 'pat', 'patch', 'patches', 'patching', 'patel', 'paths', 'pathways', 'patient', 'patients', 'patil', 'patni', 'pattern', 'patterns', 'pawar', 'pay', 'paybles', 'payers', 'paying', 'payment', 'payments', 'payroll', 'paytech', 'pba', 'pca', 'pcb', 'pcc', 'pci', 'pdacoe', 'pdf', 'pe8', 'peer', 'peerbhoy', 'peers', 'penalty', 'penchant', 'penultimate', 'people', 'percentage', 'perfect', 'perform', 'performance', 'performances', 'performed', 'performers', 'performing', 'performs', 'period', 'periodic', 'periodically', 'permanent', 'permissions', 'permit', 'person', 'personal', 'personally', 'personnel', 'perspective', 'perspectives', 'pertaining', 'pertinent', 'petitions', 'petroleum', 'petronet', 'petty', 'pf', 'pfizer', 'pg', 'pgdm', 'pharma', 'pharmaceutical', 'pharmaceuticals', 'phase', 'phases', 'pheonix', 'philosophy', 'phioenix', 'phoenix', 'phone', 'photographers', 'photography', 'photoshop', 'php', 'phule', 'physical', 'physicaltherapy', 'physiology', 'phython', 'pi', 'pia', 'pick', 'picking', 'pict', 'pid', 'pig', 'pii', 'pil', 'pilot', 'pins', 'pipe', 'pipeline', 'piping', 'pitching', 'pitr', 'pittsburgh', 'pivot', 'pivotal', 'pivots', 'pl', 'place', 'placed', 'places', 'plaint', 'plaintiff', 'plan', 'plane', 'planner', 'planning', 'plans', 'plant', 'plants', 'planviz', 'plastering', 'plastics', 'platform', 'platforms', 'platinum', 'play', 'played', 'player', 'players', 'playing', 'plaza', 'plc', 'plead', 'plotly', 'plots', 'plotted', 'plsql', 'plumbing', 'plus', 'pm', 'pmo', 'pmos', 'pmosenior', 'pmoskill', 'pmr', 'pms', 'pneumatic', 'poc', 'pocs', 'pod', 'poi', 'point', 'points', 'poland', 'polaris', 'police', 'polices', 'policies', 'policy', 'polite', 'political', 'politician', 'polytechnic', 'polytechnicetl', 'pom', 'pools', 'poona', 'populate', 'port', 'portal', 'portfolio', 'portfolios', 'pos', 'position', 'positioned', 'positive', 'positives', 'positron', 'posse', 'possible', 'post', 'poster', 'posters', 'postgresql', 'postgressql', 'posting', 'postman', 'pot', 'potential', 'pour', 'powai', 'power', 'powercenter', 'powerful', 'powerpoint', 'powertech', 'pp', 'ppe', 'ppt', 'pr', 'prabhakar', 'practical', 'practically', 'practice', 'practices', 'practicing', 'practitioner', 'pradesh', 'pragat', 'prakash', 'prakshal', 'prasanna', 'pravaranagar', 'prayerlister', 'prc', 'pre', 'precedents', 'precision', 'predefined', 'predict', 'predicting', 'predictive', 'prefer', 'preferences', 'preferred', 'preformed', 'preforming', 'preliminary', 'premier', 'premises', 'premium', 'prepaid', 'preparation', 'preparations', 'prepare', 'prepared', 'preparing', 'preprocessing', 'prescribed', 'present', 'presentation', 'presentations', 'presented', 'presenters', 'presenting', 'preserving', 'president', 'press', 'pressure', 'pretrial', 'prevention', 'preventive', 'previous', 'prgx', 'price', 'prices', 'pricing', 'primarily', 'primary', 'prime', 'prince2', 'print', 'printer', 'printers', 'printing', 'priorities', 'prioritizing', 'priority', 'privacy', 'private', 'privileges', 'priyadarshini', 'prize', 'prm', 'pro', 'proactive', 'proactively', 'problem', 'problematic', 'problems', 'procedure', 'procedures', 'process', 'processed', 'processes', 'processing', 'procured', 'procurement', 'procuring', 'prod', 'produce', 'producer', 'produces', 'producing', 'product', 'production', 'productive', 'productivity', 'products', 'prof', 'professional', 'professionalism', 'professionally', 'professionals', 'professor', 'professorasst', 'professorskill', 'proficiency', 'proficient', 'proficy', 'profile', 'profiled', 'profiler', 'profiles', 'profit', 'profitability', 'profitable', 'profits', 'profound', 'program', 'programing', 'programme', 'programmer', 'programmers', 'programmes', 'programming', 'programs', 'progress', 'progression', 'progressive', 'project', 'projects', 'proliant', 'promark', 'promote', 'promoted', 'promoting', 'promotion', 'promotional', 'promotions', 'prompt', 'proof', 'proper', 'properly', 'properties', 'property', 'propertysolutions', 'prophet', 'proposal', 'proposals', 'propose', 'proposed', 'prosecuted', 'proship', 'protect', 'protection', 'protective', 'proteus', 'protius', 'protocol', 'protocols', 'prototype', 'prototyping', 'proven', 'provide', 'provided', 'provider', 'providers', 'provides', 'providing', 'proving', 'provision', 'provisioning', 'proxy', 'prts', 'prudential', 'prv', 'ps', 'pso', 'psu', 'pt', 'ptf', 'pts', 'public', 'publication', 'publicity', 'publish', 'publishing', 'pulp', 'pulse', 'pump', 'pumps', 'punch', 'punching', 'punctuality', 'pune', 'puneadvocateadvocateskill', 'puneautomation', 'puneskill', 'punjab', 'punjabi', 'puppet', 'purchase', 'purchases', 'purchasing', 'purge', 'purging', 'purpose', 'purposes', 'pursued', 'pursuing', 'purvanchal', 'push', 'putty', 'pvt', 'pwd', 'pws', 'pyspark', 'python', 'python3', 'qa', 'qatif', 'qc', 'qlikview', 'qm', 'qms', 'qtp', 'qualification', 'qualifications', 'qualifier', 'qualis', 'qualitative', 'qualities', 'quality', 'quantitative', 'quantities', 'quantity', 'quarter', 'quarterly', 'quartile', 'queen', 'queries', 'query', 'query400', 'querying', 'question', 'questionnaire', 'questions', 'queues', 'queuing', 'quick', 'quickest', 'quickly', 'quota', 'quotas', 'quotation', 'quotations', 'quotes', 'r2', 'r3', 'r75', 'r77', 'rac', 'race', 'rachana', 'rack', 'radha', 'radiators', 'radio', 'raid', 'rail', 'railtel', 'railtiffin', 'railway', 'railwire', 'raise', 'raised', 'raising', 'raisoni', 'rajapur', 'rajapurtesting', 'rajasthan', 'rajdevi', 'rakesh', 'rally', 'ram', 'ran', 'ranchi', 'random', 'range', 'ranges', 'ranging', 'rangoli', 'rank', 'ranked', 'rapport', 'rare', 'raspberry', 'rate', 'rates', 'rathore', 'rathorology', 'ratio', 'rational', 'ratios', 'ratnagiri', 'ratnamala', 'rave', 'raw', 'ray', 'rayat', 'raymond', 'rb', 'rca', 'rcc', 'rcm', 'rcsa', 'rd', 'rdbms', 'rdd', 'rdls', 'rds', 'react', 'reactjs', 'reading', 'reads', 'ready', 'real', 'realestate', 'reality', 'realizing', 'realm', 'reasearch', 'reasonable', 'reasonably', 'reasoningâ', 'rebadged', 'rebates', 'rebill', 'rebuild', 'rebuilding', 'rebuilds', 'recall', 'receipt', 'receivables', 'receive', 'received', 'receiving', 'recent', 'reclaim', 'recognition', 'recognitions', 'recognized', 'recommendation', 'recommendations', 'recommended', 'reconciliation', 'reconciliations', 'reconnaissance', 'record', 'recorded', 'recording', 'records', 'recoveries', 'recovery', 'recruit', 'recruitment', 'recs', 'recurrent', 'red', 'redhat', 'redo', 'redolog', 'redshift', 'reduce', 'reduced', 'reducing', 'reduction', 'redundant', 'redwood', 'reengineering', 'refcon', 'reference', 'reflexology', 'refresh', 'refreshers', 'refunds', 'regard', 'regarding', 'regards', 'regex', 'region', 'regional', 'regions', 'register', 'registered', 'registrar', 'registration', 'registrations', 'registry', 'regression', 'regular', 'regularization', 'regularly', 'regulation', 'regulations', 'regulators', 'regulatory', 'rehearsal', 'reimbursement', 'reinforcement', 'rejection', 'relate', 'related', 'relates', 'relating', 'relation', 'relational', 'relations', 'relationship', 'relationships', 'relay', 'relays', 'release', 'releases', 'relevant', 'reliability', 'reliable', 'reliance', 'relocate', 'remain', 'remark', 'remediated', 'remediation', 'remedy', 'reminder', 'reminders', 'remote', 'remotely', 'remove', 'removing', 'renaming', 'rendering', 'renewals', 'renovated', 'rent', 'reorder', 'reorganize', 'reorganizes', 'replace', 'replete', 'replication', 'replied', 'report', 'reported', 'reporters', 'reporting', 'reports', 'repositories', 'repository', 'repots', 'represent', 'representation', 'representations', 'representative', 'representatives', 'represented', 'reps', 'reputation', 'request', 'requested', 'requests', 'required', 'requirement', 'requirements', 'requires', 'requisition', 'rescheduling', 'research', 'researcher', 'researching', 'reservation', 'reservoir', 'resetting', 'residential', 'resigned', 'resiliency', 'resistance', 'resize', 'resizing', 'resolution', 'resolve', 'resolved', 'resolving', 'resource', 'resources', 'resourcing', 'respect', 'respective', 'respond', 'respondents', 'responding', 'responesbilities', 'response', 'responses', 'responsibilities', 'responsibilitis', 'responsibility', 'responsible', 'responsiblites', 'responsive', 'resrent', 'rest', 'restapi', 'restart', 'restful', 'restoration', 'restore', 'restoring', 'restructuring', 'result', 'resulting', 'results', 'resume', 'resumption', 'retail', 'retailer', 'retailers', 'retain', 'retaing', 'retention', 'retesting', 'retired', 'retrieve', 'return', 'returned', 'returns', 'reusability', 'reusable', 'reuse', 'revenue', 'revenues', 'reverse', 'review', 'reviewed', 'reviewer', 'reviewing', 'reviews', 'revise', 'revoking', 'revolutionizing', 'rewards', 'rf', 'rfe', 'rfi', 'rfid', 'rfm', 'rgb', 'rgpv', 'rgpvdata', 'rh', 'rhds', 'rheinland', 'rhel', 'rich', 'right', 'rights', 'rimsys', 'rip', 'ripng', 'ripple', 'ripv2', 'ris', 'rise', 'risk', 'risks', 'rk', 'rkdf', 'rkims', 'rlm', 'rlt', 'rm', 'rman', 'rms', 'rnn', 'rnt', 'road', 'roadblocks', 'robot', 'robotic', 'robotics', 'robust', 'rockwell', 'rodc', 'roi', 'role', 'roles', 'roll', 'rollback', 'rolled', 'rolling', 'rollouts', 'rome', 'roof', 'rookie', 'room', 'root', 'rot', 'rotation', 'round', 'route', 'route53', 'router', 'routers', 'routes', 'routine', 'routing', 'row', 'royal', 'rp', 'rpa', 'rpasenior', 'rpg', 'rpgle', 'rplus', 'rrf', 'rrâ', 'rs', 'rsa', 'rsaenvision', 'rtc', 'rtcc', 'rtm', 'rtmnu', 'rtmnumechanical', 'rtrms', 'rts', 'ruckus', 'rudraaksh', 'rule', 'rules', 'run', 'running', 'runs', 'ryan', 's3', 's4hana', 's7', 'sa', 'sababa', 'sabic', 'sadms', 'safe', 'safely', 'safety', 'sagar', 'sage', 'saints', 'salaries', 'salary', 'sale', 'sales', 'salesforce', 'salesperson', 'samne', 'san', 'sanarco', 'sanghavi', 'sangli', 'sanity', 'sanpada', 'sansad', 'sant', 'santnamdev', 'sap', 'sapkal', 'sapphire', 'saral', 'sarimax', 'sass', 'sasskill', 'sat', 'satellite', 'sati', 'satisfaction', 'satisfactory', 'satisfied', 'satisfy', 'satisfying', 'saudi', 'sav', 'save', 'saved', 'saver', 'saviant', 'savitribai', 'sawitribai', 'sbi', 'sblc', 'sc', 'scada', 'scala', 'scalable', 'scale', 'scaling', 'scalp', 'scan', 'scanned', 'scanners', 'sccm', 'scd', 'scd1', 'scd2', 'scenarios', 'schedule', 'scheduled', 'scheduler', 'schedulers', 'schedules', 'scheduling', 'schema', 'schemas', 'scheme', 'schemes', 'schenker', 'schlumberger', 'schlumbergerskill', 'schneider', 'schnider', 'scholar', 'scholarship', 'school', 'schoolabap', 'schoolblockchain', 'schooletl', 'schoolhead', 'schoolhrskill', 'schoolindustrial', 'schooling', 'schooljava', 'schoolpmohaving', 'schools', 'schoolsales', 'schoolsap', 'schoolsenior', 'sci', 'science', 'sciencecivil', 'sciencedata', 'sciencei', 'sciences', 'scienceskill', 'scientific', 'scientist', 'scientistdata', 'scikit', 'scindia', 'scipy', 'scm', 'scoe', 'scom', 'scope', 'scorecard', 'scoring', 'scp', 'scraping', 'scratch', 'screen', 'screenings', 'screens', 'script', 'scripting', 'scriptingeducation', 'scripts', 'scrum', 'sd', 'sda', 'sdk', 'sdlc', 'sdm', 'sdnbvchrskill', 'sea', 'seaborn', 'seafreight', 'seam', 'seamless', 'seamlessly', 'search', 'searching', 'seasonal', 'seasoned', 'seat', 'seattle', 'second', 'secondary', 'secondaryweb', 'seconds', 'secret', 'secretary', 'section', 'sector', 'sectors', 'secure', 'secured', 'secureddesign', 'securedsql', 'securities', 'security', 'seema', 'seen', 'segmentation', 'segmented', 'segments', 'selec', 'select', 'selected', 'selecting', 'selection', 'selects', 'selenium', 'self', 'sell', 'selling', 'sem', 'semi', 'semiannual', 'semister', 'send', 'sending', 'sends', 'senior', 'seniors', 'sense', 'senses', 'sensibility', 'sensor', 'sensors', 'sent', 'sentence', 'sentiment', 'sentiments', 'sep', 'separate', 'separated', 'sept', 'september', 'serck', 'serde', 'serialization', 'series', 'serve', 'server', 'server2', 'servereducation', 'servers', 'serves', 'service', 'services', 'servicesskill', 'servicesâ', 'servicing', 'serving', 'servlet', 'servlets', 'session', 'sessions', 'set', 'sets', 'setting', 'settings', 'settlement', 'settlements', 'setup', 'setups', 'sever', 'severity', 'sf6', 'sgd', 'shadow', 'shahani', 'shall', 'shankaracharya', 'share', 'shared', 'sharepoint', 'sharing', 'sharjah', 'sheet', 'sheets', 'shegaon', 'shell', 'shield', 'shift', 'shifting', 'shipment', 'shipments', 'shipped', 'shipping', 'shirts', 'shivaji', 'shooping', 'shooting', 'shop', 'shope', 'shopkeeper', 'shopping', 'shops', 'shore', 'short', 'shortfalls', 'shortlisting', 'shoulder', 'showing', 'shows', 'shree', 'shreekiaspack', 'shri', 'shrinking', 'shubhankan', 'shunt', 'shut', 'shuttering', 'siebel', 'siem', 'siemens', 'sierra', 'sify', 'sigma', 'sign', 'significant', 'signoff', 'signup', 'sikkim', 'silent', 'silverline', 'similarity', 'simple', 'simply', 'sims', 'simulator', 'simultaneously', 'sincerity', 'singh', 'singhad', 'single', 'sinochem', 'sip', 'sit', 'site', 'sites', 'situation', 'situations', 'size', 'sizes', 'sk', 'skill', 'skilled', 'skills', 'skillseducation', 'skillset', 'sklearn', 'skncoe', 'sla', 'slabs', 'slas', 'slave', 'slaâ', 'sld', 'slender', 'slimming', 'slip', 'slipstream', 'slots', 'slow', 'slows', 'slt', 'small', 'smart', 'smartbadge', 'smartforms', 'smashingday', 'sme', 'smec', 'smes', 'smith', 'smoke', 'smooth', 'smoothened', 'smoothly', 'smp', 'sms', 'smsql', 'smt', 'snag', 'snail', 'snap', 'snappy', 'snapshot', 'snd', 'snooping', 'sns', 'soa', 'soap', 'soapbox', 'soc', 'social', 'society', 'sociology', 'soft', 'softenger', 'softgst', 'softtrust', 'softtrustusa', 'software', 'softwareskill', 'softwere', 'solapur', 'solar', 'sold', 'sole', 'solenoid', 'soliciting', 'solid', 'solidity', 'solidworks', 'solman', 'solmon', 'solution', 'solutions', 'solve', 'solved', 'solving', 'somaiya', 'sonarqube', 'sonic', 'sop', 'sophia', 'sophisticated', 'sops', 'sopâ', 'sorted', 'sorter', 'sorters', 'sorting', 'sorts', 'sound', 'soup', 'source', 'sources', 'sourcing', 'sow', 'sp2', 'spa', 'space', 'spaces', 'spacy', 'span', 'spanning', 'spark', 'sparkapi', 'sparkcontext', 'sparkle', 'speaker', 'speaking', 'speakingâ', 'spearheaded', 'spearheading', 'special', 'specialize', 'specialized', 'specially', 'specialty', 'specific', 'specifically', 'specification', 'specifications', 'specified', 'specilaized', 'specs', 'speed', 'speedyceus', 'spending', 'spent', 'spirit', 'splat', 'splits', 'spoc', 'spoken', 'sponsor', 'sponsored', 'sponsorship', 'sports', 'sportsmen', 'spot', 'spotfire', 'spots', 'spreadsheets', 'spring', 'springer', 'springernature', 'springmvc', 'sps12', 'spsseducation', 'sqa', 'sql', 'sql2000', 'sqlserver', 'sqoop', 'square', 'sr', 'sri', 'srimedhavhrnaniskill', 'srm', 'srs', 'srvctl', 'ssc', 'ssis', 'ssl', 'sslc', 'ssms', 'sso', 'ssrs', 'st', 'staa', 'stability', 'stabilizer', 'stabilizers', 'stack', 'staff', 'staffing', 'stage', 'stages', 'staging', 'stake', 'stakeholder', 'stakeholders', 'stalk', 'standalone', 'standard', 'standardized', 'standards', 'standardâ', 'standby', 'stanley', 'star', 'start', 'started', 'starter', 'starters', 'starting', 'startup', 'state', 'statement', 'statements', 'states', 'statetesting', 'static', 'statically', 'station', 'stations', 'statistical', 'statistics', 'stats', 'statsmodels', 'status', 'statutory', 'stay', 'stb', 'stc', 'steady', 'steaming', 'steel', 'steering', 'step7', 'stepcone', 'steps', 'stipulated', 'stlc', 'stock', 'stocking', 'stocks', 'stop', 'storage', 'store', 'stored', 'stores', 'stories', 'storing', 'storm', 'stormfur', 'storming', 'stp', 'stplafrica', 'stplafricaonline', 'strata', 'strategic', 'strategies', 'strategizing', 'strategy', 'stream', 'streaming', 'streamline', 'streamlining', 'strength', 'strengthening', 'strengths', 'stress', 'stretchable', 'strictly', 'stringent', 'stromfur', 'strong', 'structural', 'structure', 'structured', 'structures', 'struts', 'student', 'students', 'studies', 'studio', 'study', 'studying', 'su53', 'sub', 'subcon', 'subfiles', 'subject', 'subjects', 'subjobs', 'sublime', 'submersible', 'submission', 'submit', 'submittal', 'submittals', 'submitted', 'subnetting', 'subordinate', 'subscribers', 'subsequently', 'substation', 'success', 'successful', 'successfully', 'succession', 'suffering', 'suffice', 'sugarcane', 'sugars', 'suggest', 'suggesting', 'suggestions', 'suit', 'suitable', 'suite', 'suited', 'suits', 'sukh', 'sultan', 'summary', 'summer', 'sun', 'sunbeam', 'suncity', 'sungard', 'sunnyvale', 'suntechnologies', 'super', 'superior', 'supernetting', 'supervise', 'supervised', 'supervising', 'supervision', 'supervisor', 'supervisors', 'supplier', 'suppliers', 'supplies', 'supply', 'supplying', 'support', 'supported', 'supporting', 'supportive', 'supports', 'sure', 'surfing', 'surgical', 'surrounds', 'surveillance', 'survey', 'surya', 'suspicious', 'suzuki', 'svm', 'svn', 'swami', 'swb', 'sweden', 'swedish', 'swift', 'swing', 'switch', 'switches', 'switchgear', 'switchgears', 'switching', 'switchover', 'switzerland', 'sybase', 'syllabus', 'symantec', 'symbiosis', 'sync', 'synechron', 'synopsis', 'syntel', 'syntelskill', 'synthesize', 'synthesizes', 'syracuse', 'systematic', 'systems', 'table', 'tableau', 'tables', 'tablespace', 'tablespaces', 'tablet', 'tabular', 'tac', 'tag', 'tagging', 'taggregate', 'taggregaterow', 'tagline', 'tai', 'tail', 'tailgating', 'taken', 'takeoff', 'takes', 'taking', 'takshshila', 'talend', 'talent', 'talkview', 'tally', 'talreja', 'talwalkars', 'tamil', 'tango', 'tank', 'tanks', 'tap', 'tapping', 'tar', 'target', 'targeted', 'targeting', 'targets', 'task', 'tasked', 'tasking', 'tasks', 'tat', 'tata', 'taught', 'tax', 'taxation', 'taxing', 'tb', 'tcachein', 'tcacheout', 'tconverttype', 'tcs', 'td', 'tdm', 'tdp', 'tds', 'tds_fdw', 'te', 'teacher', 'teacherdrawing', 'teachers', 'team', 'teams', 'teamâ', 'tech', 'techn', 'technical', 'technicalproficiencies', 'technicalskills', 'technique', 'techniques', 'techno', 'technological', 'technologies', 'technologiesskill', 'technologiesâ', 'technologists', 'technology', 'technologyjava', 'technologyskill', 'technosoft', 'tectia', 'tektronix', 'telangana', 'telecom', 'telecommunication', 'telecommunications', 'telemetary', 'teleperformance', 'telephone', 'telephonic', 'telerik', 'telle', 'temp', 'temperature', 'template', 'temporary', 'tenacious', 'tendermint', 'tensor', 'tensorflow', 'tenure', 'terabytes', 'teradata', 'teresa', 'term', 'terminal', 'terminals', 'terms', 'test', 'tested', 'tester', 'testerautomation', 'testerskill', 'testing', 'testingjava', 'testingskill', 'testingsoftware', 'testng', 'tests', 'tetra', 'teva', 'text', 'text2', 'tez', 'tf', 'tfidf', 'tfileexist', 'tfileinputdelimited', 'tfilelist', 'tfileoutputdelimited', 'tfilter', 'tflowmeter', 'tfs', 'tftp', 'tftpconnection', 'tftput', 'th', 'thadomal', 'thai', 'thakur', 'thank', 'thanks', 'thdfsconfiguration', 'theatre', 'thee', 'therapies', 'thermal', 'thesis', 'things', 'think', 'thinker', 'thinking', 'thorough', 'thread', 'thrive', 'throttle', 'thunderbird', 'ti', 'tibco', 'ticket', 'ticketing', 'tickets', 'tid', 'tidal', 'tie', 'tiebar', 'tier', 'tieriii', 'ties', 'tieto', 'tikona', 'tile', 'till', 'time', 'timeframe', 'timeline', 'timelines', 'timely', 'times', 'timesheet', 'timing', 'tipu', 'tirlok', 'title', 'tivoli', 'tjava', 'tjavarow', 'tjdbcconfiguration', 'tjdbcinput', 'tjoin', 'tl', 'tl9k', 'tlogcatcher', 'tlv', 'tm', 'tmap', 'tns', 'tnsnames', 'toad', 'today', 'tofa', 'token', 'tokyo', 'toll', 'tomcat', 'tons', 'took', 'tool', 'tools', 'topic', 'topics', 'tor', 'tora', 'tortoise', 'tosca', 'total', 'totalcitee', 'totally', 'toubro', 'toubroskill', 'tour', 'tourist', 'tourists', 'tournament', 'tournaments', 'tours', 'tower', 'towers', 'toyo', 'tparalleize', 'tparallelize', 'trace', 'traceability', 'tracer', 'tracing', 'track', 'tracked', 'tracker', 'tracking', 'trade', 'tradefinex', 'trading', 'traditionally', 'traffic', 'train', 'trained', 'trainee', 'trainees', 'trainer', 'trainerskill', 'trainerweb', 'training', 'trainings', 'trans', 'transact', 'transaction', 'transactional', 'transactions', 'transfer', 'transform', 'transformation', 'transformations', 'transformer', 'transformers', 'transforms', 'transit', 'transition', 'transitioned', 'transitions', 'translate', 'translating', 'translation', 'transmission', 'transmitter', 'transmitters', 'transparent', 'transport', 'transportation', 'transporters', 'transshipment', 'travel', 'travelled', 'travelling', 'travels', 'tray', 'trays', 'trb', 'treasurer', 'treasury', 'treatment', 'tree', 'trees', 'trench', 'trenching', 'trend', 'trended', 'trends', 'treplicate', 'trexo', 'triage', 'trial', 'trials', 'tribunals', 'tricks', 'trigger', 'trimax', 'trimurti', 'trippereri', 'tripping', 'trips', 'trivial', 'trombay', 'trouble', 'troubleshoooting', 'troubleshoot', 'troubleshooting', 'trowgenerator', 'truba', 'truck', 'truly', 'trun', 'trunjob', 'trust', 'trustbank', 'trusted', 'trustee', 'try', 'ts', 'ts3configuration', 'ts3put', 'tskill', 'tsortrow', 'tsp', 'tsqlrow', 'tsr', 'tsrtechnologyservices', 'tsys', 'tubes', 'tulu', 'tuning', 'turbine', 'turn', 'turnaround', 'turned', 'turnover', 'tutorial', 'tuv', 'twice', 'twido', 'tws', 'tybcom', 'type', 'type1', 'type2', 'types', 'typescript', 'typewriting', 'typical', 'uae', 'uat', 'ubc', 'ubuntu', 'ucs', 'ud', 'udemy', 'uds', 'uft', 'ug', 'uh', 'uhs', 'ui', 'uit', 'uk', 'ul', 'ulhasnagar', 'uml', 'unbilled', 'uncorrected', 'uncover', 'undelivered', 'underperforming', 'understand', 'understanding', 'understood', 'undertake', 'undertaken', 'undertaking', 'underwent', 'underwriting', 'undo', 'une', 'unicenter', 'unicode', 'union', 'unique', 'unit', 'united', 'units', 'unity', 'universal', 'universe', 'universes', 'university', 'universityadvocatenewcomer', 'universityadvocateskill', 'universityautomation', 'universityblockchain', 'universitycloud', 'universitydata', 'universitydatabase', 'universitydesignation', 'universitydot', 'universityelectrical', 'universityetl', 'universityhodoop', 'universityjava', 'universitylead', 'universityoperations', 'universityoracle', 'universityproject', 'universitypython', 'universityqa', 'universitysales', 'universitysap', 'universitysenior', 'universityskill', 'universitysoftware', 'universitysr', 'universitysystems', 'universityweb', 'unix', 'unixeducation', 'unravel', 'unstructured', 'unsupervised', 'unsupported', 'unused', 'upcoming', 'update', 'updated', 'updates', 'updateskill', 'updating', 'upgradation', 'upgrade', 'upgraded', 'upgrades', 'upgrading', 'uploaded', 'uploading', 'ups', 'upstream', 'uptime', 'upto', 'urban', 'urja', 'url', 'usa', 'usability', 'usage', 'usd', 'use', 'used', 'useful', 'user', 'users', 'userâ', 'uses', 'usi', 'using', 'usiskill', 'utc', 'utilise', 'utilising', 'utilities', 'utility', 'utilization', 'utilizations', 'utilize', 'utilized', 'utilizing', 'utm', 'utp', 'utr', 'uttar', 'v10', 'v9', 'vacation', 'vaccines', 'vacon', 'vacuum', 'vader', 'valid', 'validate', 'validation', 'validations', 'validity', 'valley', 'valuable', 'value', 'valuelabs', 'values', 'valve', 'valves', 'vanet', 'vankan', 'varanasimartial', 'variable', 'variables', 'variance', 'variation', 'varies', 'various', 'varying', 'vashi', 'vasundhara', 'vb', 'vb6', 'vba', 'vbs', 'vbscript', 'vc', 'vcb', 'vdi', 've', 'vector', 'vegas', 'vehicle', 'vendor', 'vendors', 'venture', 'ventures', 'venturus', 'venue', 'ver', 'verbal', 'vergata', 'verification', 'verify', 'verifying', 'versa', 'versatile', 'versed', 'version', 'versioning', 'versions', 'vertex', 'vertical', 'verticals', 'vessels', 'vetting', 'vfd', 'vfds', 'vhd', 'vi', 'viability', 'viamedia', 'vice', 'vidarbha', 'video', 'videos', 'vidisha', 'vidya', 'vidyabharati', 'vidyalankar', 'vidyapeeth', 'vidyashram', 'view', 'viewer', 'viewing', 'views', 'vii', 'viii', 'vijeo', 'villas', 'vimay', 'vinayaka', 'vintela', 'vintelaâ', 'violation', 'violence', 'vip', 'viralsocials', 'virtual', 'virtualbox', 'virtualisation', 'virtuous', 'visa', 'vise', 'vish', 'vishweshwariya', 'visio', 'vision', 'visit', 'visited', 'visiting', 'visitors', 'visits', 'vista', 'vistex', 'vistor', 'visual', 'visualforce', 'visualization', 'visualizations', 'visvesvaraya', 'vitsanindia', 'vivid', 'vlan', 'vlans', 'vlcc', 'vlsi', 'vm', 'vmcbank', 'vmware', 'vodafone', 'voice', 'voltage', 'volume', 'volumes', 'volunteer', 'vpc', 'vpi', 'vpn', 'vqi', 'vs', 'vtp', 'vtu', 'vulnerability', 'vversatile', 'wab', 'wachovia', 'wagh', 'wagheducation', 'wai', 'walchand', 'walk', 'walking', 'walks', 'walkthrough', 'walkthroughs', 'wall', 'wallace', 'wallet', 'wan', 'wanless', 'want', 'wanted', 'warangal', 'ward', 'warehouse', 'warehouses', 'warehousing', 'warrants', 'wastages', 'waste', 'watch', 'watching', 'water', 'waterfall', 'watering', 'waterproofing', 'wave', 'waves', 'way', 'ways', 'wcf', 'wdeploy', 'wds', 'wealth', 'wearable', 'web', 'webdriver', 'webi', 'weblogic', 'weblogic12c', 'webserver', 'webservers', 'webservices', 'website', 'websites', 'week', 'weekend', 'weekends', 'weekly', 'weeks', 'weight', 'welding', 'welfare', 'wellness', 'west', 'western', 'wfm', 'wheeler', 'white', 'wholesalers', 'wholly', 'wi', 'wide', 'wifi', 'willing', 'willingdon', 'willingness', 'wims', 'win', 'wincc', 'wind', 'winding', 'window', 'windows', 'windowsserver2012r2', 'windowsâ', 'winds', 'windsor', 'wings', 'winsol', 'winter', 'winxp', 'wipro', 'wiproâ', 'wireless', 'wiring', 'wise', 'withcustomized', 'wm', 'wmdatalake', 'wms', 'wns', 'women', 'won', 'wonderware', 'word', 'word2vec', 'words', 'work', 'workbench', 'worked', 'worker', 'workers', 'workflow', 'workflows', 'workforce', 'working', 'worklets', 'workload', 'works', 'workshop', 'workshops', 'workspace', 'workstation', 'world', 'worldwide', 'worth', 'wpl', 'wqr', 'write', 'writers', 'writing', 'written', 'wrote', 'wti', 'wtp', 'wwf', 'www', 'xaml', 'xampp', 'xcode', 'xen', 'xento', 'xii', 'xillinx', 'xinfin', 'xl', 'xml', 'xoriant', 'xp', 'xs', 'xslt', 'xtrabackup', 'xtraction', 'yalamanchili', 'yallaspree', 'yangon', 'yard', 'yarn', 'yashwant', 'yashwantrao', 'year', 'yearly', 'years', 'yee', 'yeola', 'yes', 'yeshwantrao', 'yibal', 'ymca', 'ymcaskill', 'ymcaust', 'york', 'young', 'youth', 'yrs', 'yyyy', 'zaggle', 'zambia', 'zd', 'zensar', 'zero', 'zhypility', 'zone', 'zz', 'ã¼', 'ã¼â']\n"
     ]
    }
   ],
   "source": [
    "print(count_vect.get_feature_names())"
   ]
  },
  {
   "cell_type": "code",
   "execution_count": 10,
   "metadata": {},
   "outputs": [
    {
     "name": "stdout",
     "output_type": "stream",
     "text": [
      "(126, 6671)\n"
     ]
    }
   ],
   "source": [
    "print(X_train_counts.shape)"
   ]
  },
  {
   "cell_type": "markdown",
   "metadata": {},
   "source": [
    "### Training..."
   ]
  },
  {
   "cell_type": "markdown",
   "metadata": {},
   "source": [
    "#### SGD"
   ]
  },
  {
   "cell_type": "code",
   "execution_count": 11,
   "metadata": {},
   "outputs": [
    {
     "data": {
      "text/plain": [
       "SGDClassifier(alpha=0.001, average=False, class_weight=None,\n",
       "              early_stopping=False, epsilon=0.1, eta0=0.0, fit_intercept=True,\n",
       "              l1_ratio=0.15, learning_rate='optimal', loss='hinge', max_iter=5,\n",
       "              n_iter_no_change=5, n_jobs=None, penalty='l1', power_t=0.5,\n",
       "              random_state=42, shuffle=True, tol=None, validation_fraction=0.1,\n",
       "              verbose=0, warm_start=False)"
      ]
     },
     "execution_count": 11,
     "metadata": {},
     "output_type": "execute_result"
    }
   ],
   "source": [
    "clf_sgd = SGDClassifier(loss='hinge',\n",
    "                        penalty='l1',\n",
    "                        alpha=0.001,\n",
    "                        random_state=42,\n",
    "                        max_iter=5,\n",
    "                        tol=None)\n",
    "clf_sgd.fit(X_train_tfidf, y_train)"
   ]
  },
  {
   "cell_type": "markdown",
   "metadata": {},
   "source": [
    "#### MLP"
   ]
  },
  {
   "cell_type": "code",
   "execution_count": 12,
   "metadata": {},
   "outputs": [
    {
     "data": {
      "text/plain": [
       "MLPClassifier(activation='relu', alpha=0.004, batch_size='auto', beta_1=0.9,\n",
       "              beta_2=0.999, early_stopping=False, epsilon=1e-08,\n",
       "              hidden_layer_sizes=(400,), learning_rate='constant',\n",
       "              learning_rate_init=0.001, max_fun=15000, max_iter=300,\n",
       "              momentum=0.9, n_iter_no_change=10, nesterovs_momentum=True,\n",
       "              power_t=0.5, random_state=42, shuffle=True, solver='adam',\n",
       "              tol=0.0001, validation_fraction=0.1, verbose=False,\n",
       "              warm_start=False)"
      ]
     },
     "execution_count": 12,
     "metadata": {},
     "output_type": "execute_result"
    }
   ],
   "source": [
    "clf_mlp = MLPClassifier(activation='relu',\n",
    "                        alpha=0.004,\n",
    "                        hidden_layer_sizes=(400,),\n",
    "                        max_iter=300,\n",
    "                        random_state=42,\n",
    "                        tol=0.0001)\n",
    "clf_mlp.fit(X_train_tfidf, y_train)"
   ]
  },
  {
   "cell_type": "markdown",
   "metadata": {},
   "source": [
    "### Evaluation"
   ]
  },
  {
   "cell_type": "markdown",
   "metadata": {},
   "source": [
    "#### SGD"
   ]
  },
  {
   "cell_type": "code",
   "execution_count": 13,
   "metadata": {},
   "outputs": [],
   "source": [
    "preds_sgd = clf_sgd.predict(count_vect.transform(X_test))\n",
    "accuracy_sgd = np.mean(preds_sgd==np.array(y_test))"
   ]
  },
  {
   "cell_type": "code",
   "execution_count": 14,
   "metadata": {},
   "outputs": [
    {
     "name": "stdout",
     "output_type": "stream",
     "text": [
      "Accuracy: 0.813953488372093\n"
     ]
    }
   ],
   "source": [
    "print(\"Accuracy: {}\".format(accuracy_sgd))"
   ]
  },
  {
   "cell_type": "markdown",
   "metadata": {},
   "source": [
    "#### MLP"
   ]
  },
  {
   "cell_type": "code",
   "execution_count": 15,
   "metadata": {},
   "outputs": [],
   "source": [
    "preds_mlp = clf_mlp.predict(count_vect.transform(X_test))\n",
    "accuracy_mlp = np.mean(preds_mlp==np.array(y_test))"
   ]
  },
  {
   "cell_type": "code",
   "execution_count": 16,
   "metadata": {},
   "outputs": [
    {
     "name": "stdout",
     "output_type": "stream",
     "text": [
      "Accuracy MLP: 0.813953488372093\n"
     ]
    }
   ],
   "source": [
    "print(\"Accuracy MLP: {}\".format(accuracy_mlp))"
   ]
  },
  {
   "cell_type": "markdown",
   "metadata": {},
   "source": [
    "### Prediction"
   ]
  },
  {
   "cell_type": "code",
   "execution_count": 17,
   "metadata": {},
   "outputs": [],
   "source": [
    "with open(SAMPLE_FILENAME, 'r') as f:\n",
    "    resume_sample = f.read()"
   ]
  },
  {
   "cell_type": "code",
   "execution_count": 18,
   "metadata": {},
   "outputs": [
    {
     "data": {
      "text/plain": [
       "\"HomeAdvisor is looking for a senior-level Developer to join our Software Development team. In general, we are looking for someone who has experience working on public-facing web properties, and being part of a fast-paced, fun-loving team. Our environment can be fun, loose, iterative, and even chaotic at times - you've been warned.\\n\\nWhat you will be doing:\\nCode every day in HTML, CSS, and to make our site highly interactive\\nIntegrate client-side code with web services, social platforms, and our Java-based infrastructure\\nProduce pixel-perfect layouts and sites from mock-ups provided by key business partners in Creative Design, UX/UI, and Product Development\\nWork on progressive redesign and maintenance projects that have an immediate impact on how our customers experience our brand every day\\n\\nWhy we think you'll like working here:\\nHomeAdvisor.com is the industry-leading online marketplace connecting homeowners to pre-qualified home improvement resources in their area - a homeowner turns to HomeAdvisor every 5 seconds for help.\\nWe're one of Denver's largest internet companies, and our employees have voted us to the Denver Post's list of Top Workplaces for 5 years running.\\nYou have a direct impact on our customer experience every single day.\\nWe're not afraid to make mistakes, and figure out how we can be better in time for the next release.\\n\\nQualifications\\n\\n3+ years of experience with the following:\\nHTML and CSS\\nBasic Photoshop skills\\nCross-browser functionality testing\\nExperience with Version Control (Git, SVN, CVS, etc.)\\n\\nBonus Points for:\\nData-binding frameworks like Angular.js and Backbone\\nJS Module patterns\\nAJAX\\nServer-side templating frameworks\\nJSTL\\nPug/Jade\\nLESS or SASS/SCSS\\nExperience with Grunt/Gulp\\nMobile Web Development\\n\\nIf you have a passion for clean, easily maintained front-end code and a desire to make an impact on customer experience, we think you’ll be in good company here at HomeAdvisor. Send us your resume so we can chat.\\n\\nIf you're interested in a career with us, we'd love to talk. If you have questions about any of our roles, talk with one of our Recruiters by signing up for our next chat: http://www.abouthomeadvisor.com/talk-to-us/\\n\""
      ]
     },
     "execution_count": 18,
     "metadata": {},
     "output_type": "execute_result"
    }
   ],
   "source": [
    "resume_sample"
   ]
  },
  {
   "cell_type": "code",
   "execution_count": 19,
   "metadata": {},
   "outputs": [],
   "source": [
    "X_pred = count_vect.transform([resume_sample])\n",
    "X_pred = tfidf_transformer.transform(X_pred)"
   ]
  },
  {
   "cell_type": "code",
   "execution_count": 20,
   "metadata": {},
   "outputs": [],
   "source": [
    "y_pred = clf_sgd.predict(X_pred)"
   ]
  },
  {
   "cell_type": "code",
   "execution_count": 21,
   "metadata": {},
   "outputs": [
    {
     "data": {
      "text/plain": [
       "array(['Web Designing'], dtype='<U25')"
      ]
     },
     "execution_count": 21,
     "metadata": {},
     "output_type": "execute_result"
    }
   ],
   "source": [
    "y_pred"
   ]
  },
  {
   "cell_type": "code",
   "execution_count": null,
   "metadata": {},
   "outputs": [],
   "source": []
  }
 ],
 "metadata": {
  "kernelspec": {
   "display_name": "Python 3",
   "language": "python",
   "name": "python3"
  },
  "language_info": {
   "codemirror_mode": {
    "name": "ipython",
    "version": 3
   },
   "file_extension": ".py",
   "mimetype": "text/x-python",
   "name": "python",
   "nbconvert_exporter": "python",
   "pygments_lexer": "ipython3",
   "version": "3.8.1"
  }
 },
 "nbformat": 4,
 "nbformat_minor": 2
}
